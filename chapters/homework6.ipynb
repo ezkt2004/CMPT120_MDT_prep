{
  "cells": [
    {
      "cell_type": "markdown",
      "metadata": {
        "id": "view-in-github",
        "colab_type": "text"
      },
      "source": [
        "<a href=\"https://colab.research.google.com/github/ezkt2004/CMPT120_MDT_prep/blob/main/chapters/homework6.ipynb\" target=\"_parent\"><img src=\"https://colab.research.google.com/assets/colab-badge.svg\" alt=\"Open In Colab\"/></a>"
      ]
    },
    {
      "cell_type": "markdown",
      "metadata": {
        "id": "Nmi-9R_YtoQY"
      },
      "source": [
        "# Homework 6"
      ]
    },
    {
      "cell_type": "markdown",
      "metadata": {
        "id": "Tq2e4rcvtoQa"
      },
      "source": [
        "This is based on chapter 6 of the course notes, and may introduce a few topics\n",
        "not mentioned there.\n",
        "\n",
        "You can also do the exercises at the bottom of the textbook chapter."
      ]
    },
    {
      "cell_type": "markdown",
      "metadata": {
        "id": "Oev3qd6NtoQa"
      },
      "source": [
        "## Testing Code\n",
        "\n",
        "How do you know if a program is correct? One way is to **test** it. You can test\n",
        "a program by giving it sample inputs and checking that it produces the expected\n",
        "outputs. If all the outputs are correct, you can be more confident that the\n",
        "program is correct.\n",
        "\n",
        "For example, think about how you would test this function:"
      ]
    },
    {
      "cell_type": "code",
      "execution_count": null,
      "metadata": {
        "id": "F6jh128CtoQa"
      },
      "outputs": [],
      "source": [
        "def both_odd(a, b):\n",
        "    \"\"\"Returns True if a and b are both odd, False otherwise.\n",
        "    Assumes a and b are non-negative integers.\n",
        "    \"\"\"\n",
        "    if a % 2 == 1 and b % 2 == 1:\n",
        "        return True\n",
        "    else:\n",
        "        return False"
      ]
    },
    {
      "cell_type": "markdown",
      "metadata": {
        "id": "rFlEYEyStoQb"
      },
      "source": [
        "Here are six **test cases**. A test cases consists of the input to the function\n",
        "and its expected output:\n",
        "\n",
        "1. `both_odd(1, 3)` should return `True`\n",
        "2. `both_odd(7, 7)` should return `True`\n",
        "3. `both_odd(0, 0)` should return `True`\n",
        "4. `both_odd(2, 3)` should return `False`\n",
        "5. `both_odd(2, 4)` should return `False`\n",
        "6. `both_odd(1, 4)` should return `False`\n",
        "\n",
        "We chose these inputs because they cover all the possibilities of two even and\n",
        "odd numbers. We also included cases where the inputs are the same.\n",
        "\n",
        "Here is some general advice for choosing good tests cases:\n",
        "\n",
        "- Choose cases that test what the function is about. In this case, we are\n",
        "  testing if numbers are even or odd, so make a variety of test cases with even\n",
        "  and odd numbers.\n",
        "- Try **edge cases**. For example, `both_odd(0, 0)` is an edge case because 0 is\n",
        "  the smallest number it promises to work with.\n",
        "- How much testing should you do? There is no one answer, but in general the\n",
        "  more complex or important a function is, the more testing you should do. For\n",
        "  most functions in a beginning course like this 5-10 test cases should enough\n",
        "  for most functions."
      ]
    },
    {
      "cell_type": "markdown",
      "metadata": {
        "id": "2HsZomZ4toQc"
      },
      "source": [
        "\n",
        "### Testing with Assertions\n",
        "An easy way to run test cases in Python is to use an **assertion**, written\n",
        "`assert expr` statement. If `expr` is `True`, nothing happens and the program\n",
        "proceeds as usual. But if `expr` is `False`, an error is raised and the program\n",
        "crashes with an error message.\n",
        "\n",
        "So we could write our test cases like this:"
      ]
    },
    {
      "cell_type": "code",
      "execution_count": null,
      "metadata": {
        "id": "DsJGHegCtoQc",
        "outputId": "04aeae48-1ca9-4b9d-e007-16ecbde07e7d"
      },
      "outputs": [
        {
          "name": "stdout",
          "output_type": "stream",
          "text": [
            "Success: all both_odd tests passed\n"
          ]
        }
      ],
      "source": [
        "def both_odd_test():\n",
        "    assert both_odd(1, 3) == True\n",
        "    assert both_odd(7, 7) == True\n",
        "    assert both_odd(0, 0) == False\n",
        "    assert both_odd(2, 3) == False\n",
        "    assert both_odd(2, 4) == False\n",
        "    assert both_odd(1, 4) == False\n",
        "    print('Success: all both_odd tests passed')\n",
        "\n",
        "both_odd_test()"
      ]
    },
    {
      "cell_type": "markdown",
      "metadata": {
        "id": "SXbUWWaLtoQc"
      },
      "source": [
        "The success message will only be printed if all the test cases pass.\n",
        "\n",
        "If any test case fails the program crashes. Here's an example where `both_odd`\n",
        "has a bug:"
      ]
    },
    {
      "cell_type": "code",
      "execution_count": null,
      "metadata": {
        "id": "f73Qig1ZtoQd",
        "outputId": "8f919441-a7a8-4e01-bf45-2e6e6714c3a6"
      },
      "outputs": [
        {
          "ename": "AssertionError",
          "evalue": "",
          "output_type": "error",
          "traceback": [
            "\u001b[0;31m---------------------------------------------------------------------------\u001b[0m",
            "\u001b[0;31mAssertionError\u001b[0m                            Traceback (most recent call last)",
            "\u001b[0;32m/tmp/ipykernel_32733/82666682.py\u001b[0m in \u001b[0;36m<module>\u001b[0;34m\u001b[0m\n\u001b[1;32m      9\u001b[0m         \u001b[0;32mreturn\u001b[0m \u001b[0;32mFalse\u001b[0m\u001b[0;34m\u001b[0m\u001b[0;34m\u001b[0m\u001b[0m\n\u001b[1;32m     10\u001b[0m \u001b[0;34m\u001b[0m\u001b[0m\n\u001b[0;32m---> 11\u001b[0;31m \u001b[0mboth_odd_test\u001b[0m\u001b[0;34m(\u001b[0m\u001b[0;34m)\u001b[0m\u001b[0;34m\u001b[0m\u001b[0;34m\u001b[0m\u001b[0m\n\u001b[0m",
            "\u001b[0;32m/tmp/ipykernel_32733/2347399175.py\u001b[0m in \u001b[0;36mboth_odd_test\u001b[0;34m()\u001b[0m\n\u001b[1;32m      1\u001b[0m \u001b[0;32mdef\u001b[0m \u001b[0mboth_odd_test\u001b[0m\u001b[0;34m(\u001b[0m\u001b[0;34m)\u001b[0m\u001b[0;34m:\u001b[0m\u001b[0;34m\u001b[0m\u001b[0;34m\u001b[0m\u001b[0m\n\u001b[0;32m----> 2\u001b[0;31m     \u001b[0;32massert\u001b[0m \u001b[0mboth_odd\u001b[0m\u001b[0;34m(\u001b[0m\u001b[0;36m1\u001b[0m\u001b[0;34m,\u001b[0m \u001b[0;36m3\u001b[0m\u001b[0;34m)\u001b[0m \u001b[0;34m==\u001b[0m \u001b[0;32mTrue\u001b[0m\u001b[0;34m\u001b[0m\u001b[0;34m\u001b[0m\u001b[0m\n\u001b[0m\u001b[1;32m      3\u001b[0m     \u001b[0;32massert\u001b[0m \u001b[0mboth_odd\u001b[0m\u001b[0;34m(\u001b[0m\u001b[0;36m7\u001b[0m\u001b[0;34m,\u001b[0m \u001b[0;36m7\u001b[0m\u001b[0;34m)\u001b[0m \u001b[0;34m==\u001b[0m \u001b[0;32mTrue\u001b[0m\u001b[0;34m\u001b[0m\u001b[0;34m\u001b[0m\u001b[0m\n\u001b[1;32m      4\u001b[0m     \u001b[0;32massert\u001b[0m \u001b[0mboth_odd\u001b[0m\u001b[0;34m(\u001b[0m\u001b[0;36m0\u001b[0m\u001b[0;34m,\u001b[0m \u001b[0;36m0\u001b[0m\u001b[0;34m)\u001b[0m \u001b[0;34m==\u001b[0m \u001b[0;32mFalse\u001b[0m\u001b[0;34m\u001b[0m\u001b[0;34m\u001b[0m\u001b[0m\n\u001b[1;32m      5\u001b[0m     \u001b[0;32massert\u001b[0m \u001b[0mboth_odd\u001b[0m\u001b[0;34m(\u001b[0m\u001b[0;36m2\u001b[0m\u001b[0;34m,\u001b[0m \u001b[0;36m3\u001b[0m\u001b[0;34m)\u001b[0m \u001b[0;34m==\u001b[0m \u001b[0;32mFalse\u001b[0m\u001b[0;34m\u001b[0m\u001b[0;34m\u001b[0m\u001b[0m\n",
            "\u001b[0;31mAssertionError\u001b[0m: "
          ]
        }
      ],
      "source": [
        "def both_odd(a, b):\n",
        "    \"\"\"Buggy version for demonstration purposes only!\n",
        "    Returns True if a and b are both odd, False otherwise.\n",
        "    Assumes a and b are non-negative integers.\n",
        "    \"\"\"\n",
        "    if a % 2 == 1 and b % 2 == 0:  # bug: should be b % 2 == 1\n",
        "        return True\n",
        "    else:\n",
        "        return False\n",
        "\n",
        "both_odd_test()"
      ]
    },
    {
      "cell_type": "markdown",
      "metadata": {
        "id": "VZ1blAyRtoQd"
      },
      "source": [
        "Reading through the error message, this line tells us which test failed:\n",
        "\n",
        "```\n",
        "----> 2     assert both_odd(1, 3) == True\n",
        "```"
      ]
    },
    {
      "cell_type": "markdown",
      "metadata": {
        "id": "z67I1JyitoQd"
      },
      "source": [
        "We *expected* `both_odd(1, 3)` to return `True`, but it actually returned\n",
        "`False`, or some not `True` value. Now the programmers job is to go back and\n",
        "debug the function, and then re-run the test cases."
      ]
    },
    {
      "cell_type": "markdown",
      "metadata": {
        "id": "Cutc6hLytoQe"
      },
      "source": [
        "### Passing All Tests Doesn't Mean a Function is Correct!"
      ]
    },
    {
      "cell_type": "markdown",
      "metadata": {
        "id": "8gT6rpIPtoQe"
      },
      "source": [
        "Testing is not perfect. Just because a function passes all its test cases does\n",
        "not mean it is correct. The tests could miss some bug. For example:"
      ]
    },
    {
      "cell_type": "code",
      "execution_count": null,
      "metadata": {
        "id": "mC4y5vxJtoQe",
        "outputId": "fcdcc00a-94d0-4a33-d2a7-04cf9d2e33d3"
      },
      "outputs": [
        {
          "name": "stdout",
          "output_type": "stream",
          "text": [
            "Success: all both_odd tests passed\n"
          ]
        }
      ],
      "source": [
        "def both_odd(a, b):\n",
        "    \"\"\"Buggy version for demonstration purposes only!\n",
        "    Returns True if a and b are both odd, False otherwise.\n",
        "    Assumes a and b are non-negative integers.\n",
        "    \"\"\"\n",
        "    if a == 100 and b == 407:\n",
        "        return True  # bug: 100 is not odd!\n",
        "    elif a % 2 == 1 and b % 2 == 1:\n",
        "        return True\n",
        "    else:\n",
        "        return False\n",
        "\n",
        "both_odd_test()"
      ]
    },
    {
      "cell_type": "markdown",
      "metadata": {
        "id": "aqRqyuJHtoQe"
      },
      "source": [
        "Despite the obvious bug, this function passes all its test cases. While this is\n",
        "a highly artificial example, in practice complex/long functions can have subtle,\n",
        "even random-seeming bugs lurking within them."
      ]
    },
    {
      "cell_type": "markdown",
      "metadata": {
        "id": "cWZywClFtoQe"
      },
      "source": [
        "## Practice Question 1"
      ]
    },
    {
      "cell_type": "markdown",
      "metadata": {
        "id": "gdiBZqMitoQe"
      },
      "source": [
        "The **integer exponentiation problem** is to calculate $a^n$ where both $a$ and\n",
        "$n$ are positive integers.\n",
        "\n",
        "Write a *recursive* function called `int_pow(a, n)` that calculates $a^n$, where\n",
        "both $a$ and $n$ are positive integers. Implement the function following these\n",
        "rules:\n",
        "\n",
        "$$\n",
        "\\begin{align*}\n",
        "    a^1 &= a \\\\\n",
        "  a^{n} &= a \\cdot a^{n-1}\n",
        "\\end{align*}\n",
        "$$\n",
        "\n",
        "Don't use `**` or `math.pow` or any loops in your code.\n",
        "\n",
        "Use this test function to help check that your function is correct:"
      ]
    },
    {
      "cell_type": "code",
      "execution_count": null,
      "metadata": {
        "id": "yF1E5qsVtoQe"
      },
      "outputs": [],
      "source": [
        "def pow_test():\n",
        "    for a in range(1, 6):\n",
        "        for n in range(1, 11):\n",
        "            assert int_pow(a, n) == a ** n\n",
        "    print(f'Success: all tests passed for int_pow')"
      ]
    },
    {
      "cell_type": "code",
      "execution_count": 10,
      "metadata": {
        "colab": {
          "base_uri": "https://localhost:8080/"
        },
        "id": "-9blWTgStoQf",
        "outputId": "11826135-7fee-4561-d2b9-74d896030465"
      },
      "outputs": [
        {
          "output_type": "stream",
          "name": "stdout",
          "text": [
            "Success: all tests passed for int_pow\n"
          ]
        }
      ],
      "source": [
        "# ... write your code here ...\n",
        "def int_pow(a,n):\n",
        "  if n == 1:\n",
        "    return a\n",
        "  else:\n",
        "    return a * int_pow(a, n-1)\n",
        "\n",
        "def pow_test():\n",
        "    for a in range(1, 6):\n",
        "        for n in range(1, 11):\n",
        "            assert int_pow(a, n) == a ** n\n",
        "    print(f'Success: all tests passed for int_pow')\n",
        "\n",
        "pow_test()"
      ]
    },
    {
      "cell_type": "markdown",
      "metadata": {
        "id": "EHyZ_Sl6toQf"
      },
      "source": [
        "## Practice Question 2\n",
        "\n",
        "Write a *non-recursive* version of the Fibonacci function from the notes. It\n",
        "should take the same inputs and give the same outputs, but implement it with\n",
        "just a loop and variables and no recursion.\n",
        "\n",
        "It should be *much* faster than the recursive version for large inputs.\n",
        "\n",
        "Use this test function to help check that your function is correct:"
      ]
    },
    {
      "cell_type": "code",
      "execution_count": null,
      "metadata": {
        "id": "enunzYKhtoQf"
      },
      "outputs": [],
      "source": [
        "def fib_test():\n",
        "    assert fib(0) == 0\n",
        "    assert fib(1) == 1\n",
        "    assert fib(2) == 1\n",
        "    assert fib(3) == 2\n",
        "    assert fib(4) == 3\n",
        "    assert fib(5) == 5\n",
        "    assert fib(6) == 8\n",
        "    print(f'Success: all tests passed for fib')"
      ]
    },
    {
      "cell_type": "code",
      "execution_count": 27,
      "metadata": {
        "colab": {
          "base_uri": "https://localhost:8080/"
        },
        "id": "fuLS1c2itoQf",
        "outputId": "23df1905-c653-41d8-c2e8-299fa4c3ae0e"
      },
      "outputs": [
        {
          "output_type": "stream",
          "name": "stdout",
          "text": [
            "Success: all tests passed for fib\n"
          ]
        }
      ],
      "source": [
        "# ... write your code here ...\n",
        "\n",
        "def fib(n):\n",
        "    if n <= 0:\n",
        "        return 0\n",
        "    elif n == 1:\n",
        "        return 1\n",
        "\n",
        "    a, b = 0, 1  # Start with the first two Fibonacci numbers\n",
        "    for i in range(2, n + 1):  # Start from the 2nd index\n",
        "        fib_sum = a + b  # Calculate the next Fibonacci number\n",
        "        a = b  # Move to the next number\n",
        "        b = fib_sum  # Update b to the new Fibonacci number\n",
        "\n",
        "    return b  # Return the nth Fibonacci number\n",
        "\n",
        "\n",
        "def fib_test():\n",
        "    assert fib(0) == 0\n",
        "    assert fib(1) == 1\n",
        "    assert fib(2) == 1\n",
        "    assert fib(3) == 2\n",
        "    assert fib(4) == 3\n",
        "    assert fib(5) == 5\n",
        "    assert fib(6) == 8\n",
        "    print(f'Success: all tests passed for fib')\n",
        "\n",
        "\n",
        "fib_test()"
      ]
    }
  ],
  "metadata": {
    "kernelspec": {
      "display_name": "Python 3",
      "language": "python",
      "name": "python3"
    },
    "language_info": {
      "codemirror_mode": {
        "name": "ipython",
        "version": 3
      },
      "file_extension": ".py",
      "mimetype": "text/x-python",
      "name": "python",
      "nbconvert_exporter": "python",
      "pygments_lexer": "ipython3",
      "version": "3.8.10"
    },
    "colab": {
      "provenance": [],
      "include_colab_link": true
    }
  },
  "nbformat": 4,
  "nbformat_minor": 0
}