{
  "cells": [
    {
      "cell_type": "markdown",
      "metadata": {
        "id": "cjsmyWXsNrEg"
      },
      "source": [
        "# Chapter 2 Lecture Notes\n",
        "\n",
        "Please read chapter 2 of the textbook.\n",
        "\n",
        "These notes take ~3 lecture hours to cover."
      ]
    },
    {
      "cell_type": "markdown",
      "metadata": {
        "id": "fB2wpkuC_09X"
      },
      "source": [
        "## The Parts of a Computer\n",
        "\n",
        "All computers these main parts:\n",
        "\n",
        "- **CPU** (**Central Processing Unit**): the brain of the computer, it is\n",
        "  responsible for executing programs and instructions. Most modern computers\n",
        "  have multiple CPUs so that computer can do multiple things at a time. However,\n",
        "  that kind of programming gets tricky quite fast, so in this course we will\n",
        "  assume the computer has only one CPU.\n",
        "- **RAM** (**Random Access Memory**), or **main memory**: the computers\n",
        "  short-term memory. It stores the data and instructions that the CPU is\n",
        "  currently using, and gets erased when the computer is turned off. We will\n",
        "  assume that computers have a *lot* of RAM, and that it's very fast to\n",
        "  read/write it.\n",
        "- **Secondary Storage** e.g. hard drives, solid state drives (SSDs): the\n",
        "  computers long-term memory that stores data and instructions that the CPU may\n",
        "  need to use later. Typically this is organized as as files and folders\n",
        "  (directories).\n",
        "- **Input/Output (I/O) devices**: the computer's interface to the outside world.\n",
        "  Examples include the keyboards, mice, monitors, the Internet, watches,\n",
        "  speakers, joysticks, VR goggles, rings, etc. --- anything you could attach to\n",
        "  a computer.  In this course, we will assume that a computer has a keyboard,\n",
        "  monitor, and can display graphical output.\n",
        "\n",
        "A **computer program** is a set of instructions that tells the computer what do\n",
        "with these components. What data should it put where, and when?"
      ]
    },
    {
      "cell_type": "markdown",
      "metadata": {
        "id": "MfAHlccU_09Y"
      },
      "source": [
        "## Variables\n",
        "\n",
        "A **variable** is a name that refers to a value in main memory (RAM).\n",
        "\n",
        "At the lowest-level, RAM uses numeric addresses to identify locations.\n",
        "\n",
        "For instance, we could store the value 15 at address 0x1040 in RAM. To retrieve\n",
        "that value later, we need to have remembered the address 0x1040. That's not so\n",
        "easy for humans!\n",
        "\n",
        "So instead, high level programming languages like Python use **variables** to\n",
        "refer to values in RAM. When you create a variable, the computer reserves a\n",
        "location in RAM and binds the variable name to that address location. So you,\n",
        "the programmer, never need to know the actual numeric address.\n",
        "\n",
        "> **Aside** In some applications it is useful to know the exact address of a\n",
        "> variable, e.g. if you are dealing with special-purpose hardware it might be\n",
        "> necessary to read/write a particular address location. Thats where languages\n",
        "> like C, C++ and assembly come in. They easily give you access to the exact\n",
        "> address of a variable, plus lots of other low-level details.\n",
        "\n",
        "So while addresses are *implemented* as, we will almost never think of that way.\n",
        "We typically think of a variable as a label that you can attach to a value in\n",
        "RAM.\n",
        "\n",
        "In Python, you create a variable by assigning it a value using the assignment\n",
        "operator `=`:"
      ]
    },
    {
      "cell_type": "code",
      "execution_count": null,
      "metadata": {
        "id": "LGCh-jVW_09Z",
        "outputId": "d81a9edb-e741-4619-fa72-b941b98f124d"
      },
      "outputs": [
        {
          "name": "stdout",
          "output_type": "stream",
          "text": [
            "6.99\n"
          ]
        }
      ],
      "source": [
        "cost = 6.99   # defines a variable called 'cost' and assigns it the value 6.99\n",
        "print(cost)"
      ]
    },
    {
      "cell_type": "markdown",
      "metadata": {
        "id": "3y0ehNaR_09a"
      },
      "source": [
        "All assignment statements have this form:\n",
        "\n",
        "```python\n",
        "var = expr\n",
        "```\n",
        "\n",
        "`var` is the name of the variable, and it appears on the left-hand side of the\n",
        "assignment operator `=`. Programmers sometimes refer to it using the\n",
        "abbreviation **LHS**, short for \"left-hand side\", and we can say that `var` is\n",
        "an **l-value**.\n",
        "\n",
        "`expr` is an expression that appears on the right-hand side of the assignment.\n",
        "We sometimes refer to it using the abbreviation **RHS**, short for \"right-hand\n",
        "side\", and we can say that `expr` is an **r-value**.\n",
        "\n",
        "In Python, assignment statements first evaluates `expr` to get its value, and\n",
        "then assigns a *copy* of that value to `var`."
      ]
    },
    {
      "cell_type": "code",
      "execution_count": null,
      "metadata": {
        "id": "_6YgTQF7_09a",
        "outputId": "46442b01-32a6-433f-9938-4d077da7863f"
      },
      "outputs": [
        {
          "name": "stdout",
          "output_type": "stream",
          "text": [
            "7\n",
            "364\n"
          ]
        }
      ],
      "source": [
        "days = 5 + 2\n",
        "print(days)\n",
        "\n",
        "days_in_year = 52 * days   # same as 52 * 7\n",
        "print(days_in_year)        # 364"
      ]
    },
    {
      "cell_type": "markdown",
      "metadata": {
        "id": "RrBdL61j_09b"
      },
      "source": [
        "In Python, a variable can refer to any type of value, not just numbers:"
      ]
    },
    {
      "cell_type": "code",
      "execution_count": null,
      "metadata": {
        "id": "uL3ybqaN_09b",
        "outputId": "3649d27d-b6bf-44f5-a7b2-29e1b092b633"
      },
      "outputs": [
        {
          "name": "stdout",
          "output_type": "stream",
          "text": [
            "Elawn is 21 years old.\n"
          ]
        }
      ],
      "source": [
        "name = 'Elawn'\n",
        "age = 21\n",
        "print(name + ' is ' + str(age) + ' years old.')"
      ]
    },
    {
      "cell_type": "markdown",
      "metadata": {
        "id": "FaQCdSrg_09c"
      },
      "source": [
        "We could also have written this example using an extra variable:"
      ]
    },
    {
      "cell_type": "code",
      "execution_count": null,
      "metadata": {
        "id": "sOOApHb-_09c",
        "outputId": "f31b0507-2b3d-4370-b991-703049874e8f"
      },
      "outputs": [
        {
          "name": "stdout",
          "output_type": "stream",
          "text": [
            "Elawn is 21 years old.\n",
            "----------------------\n"
          ]
        }
      ],
      "source": [
        "name = 'Elawn'\n",
        "age = 21\n",
        "message = name + ' is ' + str(age) + ' years old.'\n",
        "print(message)\n",
        "print('-' * len(message))"
      ]
    },
    {
      "cell_type": "markdown",
      "metadata": {
        "id": "X76qBdQO_09d"
      },
      "source": [
        "The same variable can be assigned different types of values at different times:"
      ]
    },
    {
      "cell_type": "code",
      "execution_count": null,
      "metadata": {
        "id": "U7jPVGoZ_09d",
        "outputId": "a3111576-2a39-4ed7-8e67-438b66ec08ef"
      },
      "outputs": [
        {
          "name": "stdout",
          "output_type": "stream",
          "text": [
            "10\n",
            "10.0\n",
            "10\n"
          ]
        }
      ],
      "source": [
        "count = 10     # 10 is an int\n",
        "print(count)   # 10\n",
        "\n",
        "count = 10.0   # 10.0 is a float\n",
        "print(count)   # 10.0\n",
        "\n",
        "count = '10'   # '10' is a string\n",
        "print(count)   # 10"
      ]
    },
    {
      "cell_type": "markdown",
      "metadata": {
        "id": "cmbboGkh_09e"
      },
      "source": [
        "## How to Think about Variables\n",
        "\n",
        "One way to imagine a variable is as a little box with a name that contain a\n",
        "value, e.g. this shows the variable `x` containing the value `3.14`:\n",
        "\n",
        "```\n",
        "|      |\n",
        "| 3.14 |\n",
        "+------+\n",
        "   x\n",
        "```\n",
        "\n",
        "You use an assignment statement to put a value into it, and whatever value is in\n",
        "there is over-written.\n",
        "\n",
        "Another way of thinking about variables is that the variable *points* to, or\n",
        "*refers* to, its value. This is what the textbook calls a **state diagram**:\n",
        "\n",
        "```\n",
        "x ------> 3.14\n",
        "```\n",
        "\n",
        "Depending on the situation, both ways of thinking about variables can be useful."
      ]
    },
    {
      "cell_type": "markdown",
      "metadata": {
        "id": "fmwmwMAu_09e"
      },
      "source": [
        "## Variable Name Rules\n",
        "\n",
        "Python variable names can be as long as you like. They can contain letters,\n",
        "numbers, and the underscore character `_`. Variables *cannot start with a\n",
        "number*: they must start with a letter or an underscore.\n",
        "\n",
        "While you can use uppercase letters in Python variable names, it is conventional\n",
        "to use only lowercase letters.\n",
        "\n",
        "Python treats letters of different cases differently. For example, `a` and `A`\n",
        "are two different variables.\n",
        "\n",
        "Python has a few names that it reserves as **keywords** that you *cannot* use\n",
        "for variables. These 35 keywords are illegal variable names in Python 3:\n",
        "\n",
        "```\n",
        "False      await      else       import     pass\n",
        "None       break      except     in         raise\n",
        "True       class      finally    is         return\n",
        "and        continue   for        lambda     try\n",
        "as         def        from       nonlocal   while\n",
        "assert     del        global     not        with\n",
        "async      elif       if         or         yield\n",
        "```"
      ]
    },
    {
      "cell_type": "code",
      "execution_count": null,
      "metadata": {
        "id": "63N1ZlJ2_09e",
        "outputId": "68fab705-9cd1-4a46-9436-c5092a63d453"
      },
      "outputs": [
        {
          "name": "stdout",
          "output_type": "stream",
          "text": [
            "False None True and as \n",
            "assert async await break class \n",
            "continue def del elif else \n",
            "except finally for from global \n",
            "if import in is lambda \n",
            "nonlocal not or pass raise \n",
            "return try while with yield \n",
            "\n",
            "# of keywords: 35\n"
          ]
        }
      ],
      "source": [
        "# print all the Python keywords\n",
        "\n",
        "from keyword import kwlist\n",
        "\n",
        "keywords = kwlist\n",
        "keywords.sort()\n",
        "for i, keyword in enumerate(keywords):\n",
        "    print(keyword, end=' ')\n",
        "    if (i + 1) % 5 == 0:\n",
        "        print()\n",
        "\n",
        "print()\n",
        "print('# of keywords:', len(keywords))\n"
      ]
    },
    {
      "cell_type": "markdown",
      "metadata": {
        "id": "iMD5qjSm_09e"
      },
      "source": [
        "> Notice that the code output is jagged because the lines are different lengths.\n",
        "> The homework exercise for this chapter shows you a way to fix this.\n",
        "\n",
        "Don't memorize this list! We'll learn the important keywords as we go, and if\n",
        "you ever accidentally use one as a variable name, Python usually gives a clear\n",
        "error message:\n",
        "\n",
        "```\n",
        ">>> class = 10\n",
        "SyntaxError: invalid syntax\n",
        "```"
      ]
    },
    {
      "cell_type": "markdown",
      "metadata": {
        "id": "lsZM_VGf_09e"
      },
      "source": [
        "## The import Statement"
      ]
    },
    {
      "cell_type": "markdown",
      "metadata": {
        "id": "kg8VyZAi_09e"
      },
      "source": [
        "Python comes with a big library of useful functions and objects, and to use them\n",
        "you need to import them.\n",
        "\n",
        "For example:"
      ]
    },
    {
      "cell_type": "code",
      "execution_count": null,
      "metadata": {
        "id": "-j8LhYPD_09f",
        "outputId": "a7135d0b-f4b7-4996-f3b4-e69cf0ae2d61"
      },
      "outputs": [
        {
          "name": "stdout",
          "output_type": "stream",
          "text": [
            "3.141592653589793\n",
            "5.0\n",
            "8.0\n",
            "1.0\n"
          ]
        }
      ],
      "source": [
        "import math   # tell Python to load the math module\n",
        "\n",
        "print(math.pi)\n",
        "print(math.sqrt(25))\n",
        "print(math.pow(2, 3))  # same as 2 ** 3\n",
        "print(math.sin(math.pi / 2))"
      ]
    },
    {
      "cell_type": "markdown",
      "metadata": {
        "id": "nkWbTXvQ_09f"
      },
      "source": [
        "This code will open your computers web browser and navigate to the SFU website:"
      ]
    },
    {
      "cell_type": "code",
      "execution_count": null,
      "metadata": {
        "id": "F6PgS6NO_09f",
        "outputId": "989f5439-7da5-4f69-badd-a7d746ab2d78"
      },
      "outputs": [
        {
          "data": {
            "text/plain": [
              "True"
            ]
          },
          "execution_count": 5,
          "metadata": {},
          "output_type": "execute_result"
        }
      ],
      "source": [
        "import webbrowser\n",
        "\n",
        "webbrowser.open('www.sfu.ca')"
      ]
    },
    {
      "cell_type": "markdown",
      "metadata": {
        "id": "5xbkIFyb_09f"
      },
      "source": [
        "If you want a list of all Python's standard library modules, you can import\n",
        "`sys` and do this:"
      ]
    },
    {
      "cell_type": "code",
      "execution_count": null,
      "metadata": {
        "id": "lEaDU2ff_09f",
        "outputId": "6abc6534-8d40-4dca-bd9b-660db978ae2c"
      },
      "outputs": [
        {
          "name": "stdout",
          "output_type": "stream",
          "text": [
            "There are 303 modules in Python's standard library.\n"
          ]
        }
      ],
      "source": [
        "import sys\n",
        "\n",
        "all_modules = sys.stdlib_module_names\n",
        "\n",
        "print(f'There are {len(all_modules)} modules in Python\\'s standard library.')"
      ]
    },
    {
      "cell_type": "markdown",
      "metadata": {
        "id": "QN3BJpvI_09f"
      },
      "source": [
        "## Function Arguments"
      ]
    },
    {
      "cell_type": "markdown",
      "metadata": {
        "id": "RbnNltuV_09g"
      },
      "source": [
        "When you call a function, the value you put into the parentheses is called an\n",
        "**argument**. For example, in the expression `print(3)`, the argument is `3`,\n",
        "and in `math.round(x - 2)` the argument is `x - 2`.\n",
        "\n",
        "The number of arguments a function can take depends on the function:"
      ]
    },
    {
      "cell_type": "code",
      "execution_count": null,
      "metadata": {
        "id": "OmjIo1tB_09g",
        "outputId": "c7bfba90-c8da-480c-f714-12d4e5722f4d"
      },
      "outputs": [
        {
          "name": "stdout",
          "output_type": "stream",
          "text": [
            "6\n",
            "8.0\n"
          ]
        }
      ],
      "source": [
        "import math\n",
        "\n",
        "print(round(5.88))     # round takes 1 argument\n",
        "print(math.pow(2, 3))  # pow takes 2 arguments"
      ]
    },
    {
      "cell_type": "markdown",
      "metadata": {
        "id": "iWlMKV2a_09g"
      },
      "source": [
        "The `print` function is called a **variable argument function** because it can\n",
        "take any number of arguments:"
      ]
    },
    {
      "cell_type": "code",
      "execution_count": null,
      "metadata": {
        "id": "8HrrzdKm_09g"
      },
      "outputs": [],
      "source": [
        "import math\n",
        "\n",
        "print()                   # 0 arguments, print a blank line\n",
        "print('Hello, World!')    # 1 argument\n",
        "x = math.sqrt(2)\n",
        "print('x =', x)           # 2 arguments\n",
        "print('x =', x, sep='')   # 3 arguments"
      ]
    },
    {
      "cell_type": "markdown",
      "metadata": {
        "id": "SHZrChig_09g"
      },
      "source": [
        "Some functions have optional arguments. For example, `int` and `round` have\n",
        "optional arguments:"
      ]
    },
    {
      "cell_type": "code",
      "execution_count": null,
      "metadata": {
        "id": "ArVqI6oO_09g",
        "outputId": "a1317b3d-a5a7-463e-9138-c6b549029ebb"
      },
      "outputs": [
        {
          "name": "stdout",
          "output_type": "stream",
          "text": [
            "20\n",
            "25\n",
            "\n",
            "rounding\n",
            "3.141592653589793\n",
            "3\n",
            "3.1\n",
            "3.14\n",
            "3.142\n"
          ]
        }
      ],
      "source": [
        "print('int conversion')\n",
        "print(int('20'))        # 20, convert from base 10\n",
        "print(int('11001', 2))  # 25, convert from base 2\n",
        "\n",
        "import math\n",
        "print()\n",
        "print('rounding')\n",
        "print(math.pi)            # 3.141592653589793\n",
        "print(round(math.pi))     # 3\n",
        "print(round(math.pi, 1))  # 3.1\n",
        "print(round(math.pi, 2))  # 3.14\n",
        "print(round(math.pi, 3))  # 3.142"
      ]
    },
    {
      "cell_type": "markdown",
      "metadata": {
        "id": "MBxKsij0_09g"
      },
      "source": [
        "Calling a function with the wrong number of arguments causes a `TypeError`:"
      ]
    },
    {
      "cell_type": "code",
      "execution_count": null,
      "metadata": {
        "id": "AO14hFRR_09h",
        "outputId": "83d47ce5-5246-454c-d65e-a4c9b5c4da5f"
      },
      "outputs": [
        {
          "name": "stdout",
          "output_type": "stream",
          "text": [
            "0.0\n"
          ]
        }
      ],
      "source": [
        "print(math.pow(2))       # TypeError: pow expected 2 arguments, got 1\n",
        "print(float('3.14', 2))  # TypeError: float expected at most 1 argument, got 2\n",
        "print(float())           # ok, returns 0.0"
      ]
    },
    {
      "cell_type": "markdown",
      "metadata": {
        "id": "ZiEhNJc8_09h"
      },
      "source": [
        "And calling a function with the wrong type is also an error:"
      ]
    },
    {
      "cell_type": "code",
      "execution_count": null,
      "metadata": {
        "id": "EmYxrQw-_09h",
        "outputId": "ef2e0e8c-48bd-400a-8af0-e2f5db145778"
      },
      "outputs": [
        {
          "name": "stdout",
          "output_type": "stream",
          "text": [
            "1.4142135623730951\n"
          ]
        }
      ],
      "source": [
        "import math\n",
        "\n",
        "# print(math.sqrt('2'))         # TypeError: must be real number, not str\n",
        "print(math.sqrt(float('2')))  # ok, returns 1.4142135623730951"
      ]
    },
    {
      "cell_type": "markdown",
      "metadata": {
        "id": "B6p0cq70_09h"
      },
      "source": [
        "## Source Code Comments\n",
        "\n",
        "The `#` character is used to start a **source code comment** in Python. Whenever\n",
        "Python sees a `#`, it ignores all characters from there to the end of the line:"
      ]
    },
    {
      "cell_type": "code",
      "execution_count": null,
      "metadata": {
        "id": "rGlWmwDl_09h"
      },
      "outputs": [],
      "source": [
        "candies = 10           # number of candies\n",
        "cost = 1.25            # cost of each candy\n",
        "print(candies * cost)  # 12.5"
      ]
    },
    {
      "cell_type": "markdown",
      "metadata": {
        "id": "TvWRaIXn_09i"
      },
      "source": [
        "It helps readability to format the comments neatly, so you should always try to\n",
        "line-up the `#` character as in the example."
      ]
    },
    {
      "cell_type": "markdown",
      "metadata": {
        "id": "QOOmuEYz_09i"
      },
      "source": [
        "### Good Use of Comments"
      ]
    },
    {
      "cell_type": "markdown",
      "metadata": {
        "id": "KxzBi4bS_09i"
      },
      "source": [
        "Source code comments can have many purposes. For example, they can explain what\n",
        "a program is doing:"
      ]
    },
    {
      "cell_type": "code",
      "execution_count": null,
      "metadata": {
        "id": "xPnMO9Lb_09o",
        "outputId": "5d179ee1-7623-40d1-8312-d9e9da88aca0"
      },
      "outputs": [
        {
          "name": "stdout",
          "output_type": "stream",
          "text": [
            "12.04\n"
          ]
        }
      ],
      "source": [
        "#\n",
        "# This programs calculates the cost of buying 86 candies at 14 cents each.\n",
        "#\n",
        "candies = 86\n",
        "cost = 0.14\n",
        "print(round(candies * cost, 2))"
      ]
    },
    {
      "cell_type": "markdown",
      "metadata": {
        "id": "U5pgcDb8_09o"
      },
      "source": [
        "Or they could explain an important detail, such as a formula:"
      ]
    },
    {
      "cell_type": "code",
      "execution_count": null,
      "metadata": {
        "id": "VJcjAfmo_09p",
        "outputId": "30af1203-a921-46be-8fc2-ccbb11e760c5"
      },
      "outputs": [
        {
          "name": "stdout",
          "output_type": "stream",
          "text": [
            "8.06225774829855\n"
          ]
        }
      ],
      "source": [
        "side1 = 4\n",
        "side2 = 7\n",
        "\n",
        "# Calculate the hypotenuse of a right triangle using the Pythagorean theorem\n",
        "# From: https://en.wikipedia.org/wiki/Pythagorean_theorem\n",
        "hypotenuse = (side1 ** 2 + side2 ** 2) ** 0.5\n",
        "\n",
        "print(hypotenuse)"
      ]
    },
    {
      "cell_type": "markdown",
      "metadata": {
        "id": "Fhl1mUw1_09p"
      },
      "source": [
        "Or to a cite a source, or program author:"
      ]
    },
    {
      "cell_type": "code",
      "execution_count": null,
      "metadata": {
        "id": "ZM1GO3Ib_09p"
      },
      "outputs": [],
      "source": [
        "#\n",
        "# Written by Elawn Muscat, Fall 2024\n",
        "#\n",
        "print('Elawn is cool!')"
      ]
    },
    {
      "cell_type": "markdown",
      "metadata": {
        "id": "fdhR5IfM_09q"
      },
      "source": [
        "Some programmers use comments as a to-do list to help them write code. For\n",
        "example, a good way to write a program is to write done English comments for\n",
        "each part:"
      ]
    },
    {
      "cell_type": "code",
      "execution_count": null,
      "metadata": {
        "id": "tsZiY3BL_09q"
      },
      "outputs": [],
      "source": [
        "# set the length of side 1 of the right triangle\n",
        "\n",
        "# set the length of side 2 of the right triangle\n",
        "\n",
        "# calculate the hypotenuse of the triangle using the Pythagorean theorem\n",
        "\n",
        "# print the results"
      ]
    },
    {
      "cell_type": "markdown",
      "metadata": {
        "id": "TbeZqJ11_09q"
      },
      "source": [
        "Then you fill-in working code for each line:"
      ]
    },
    {
      "cell_type": "code",
      "execution_count": null,
      "metadata": {
        "id": "8Q82hZ2p_09r",
        "outputId": "a76a2143-e0c4-4953-bef9-5d75c937686b"
      },
      "outputs": [
        {
          "name": "stdout",
          "output_type": "stream",
          "text": [
            "5.0\n"
          ]
        }
      ],
      "source": [
        "# set the length of side 1 of the right triangle\n",
        "side1 = 3\n",
        "\n",
        "# set the length of side 2 of the right triangle\n",
        "side2 = 4\n",
        "\n",
        "# calculate the hypotenuse of the triangle using the Pythagorean theorem\n",
        "hypotenuse = math.sqrt(side1 ** 2 + side2 ** 2)\n",
        "\n",
        "# print the results\n",
        "print(hypotenuse)"
      ]
    },
    {
      "cell_type": "markdown",
      "metadata": {
        "id": "eGEw74FL_09r"
      },
      "source": [
        "Comment can also be used to temporarily disable code. Here lines 4 and 5 are\n",
        "commented-out since the programmers only wants to see the value of `c`:"
      ]
    },
    {
      "cell_type": "code",
      "execution_count": null,
      "metadata": {
        "id": "nIDaIYHT_09r",
        "outputId": "6e2a1d1c-d041-4f22-b934-5a12672d703a"
      },
      "outputs": [
        {
          "name": "stdout",
          "output_type": "stream",
          "text": [
            "13\n"
          ]
        }
      ],
      "source": [
        "a = 3\n",
        "b = a ** 2\n",
        "c = a + b + 1\n",
        "# print(a)\n",
        "# print(b)\n",
        "print(c)"
      ]
    },
    {
      "cell_type": "markdown",
      "metadata": {
        "id": "8wkqMXKW_09s"
      },
      "source": [
        "### Bad Use of Comments"
      ]
    },
    {
      "cell_type": "markdown",
      "metadata": {
        "id": "h5S8o9xa_09t"
      },
      "source": [
        "Source code comments should *not* repeat what is already obvious from the code.\n",
        "These are examples of poor comments:"
      ]
    },
    {
      "cell_type": "code",
      "execution_count": null,
      "metadata": {
        "id": "H7Ti58QC_09t"
      },
      "outputs": [],
      "source": [
        "num_bars = 5                  # set num_bars to 5\n",
        "cost = 6.99                   # set cost to 6.99\n",
        "total_cost = num_bars * cost  # calculate the total cost\n",
        "print(total_cost)             # print the total cost"
      ]
    },
    {
      "cell_type": "markdown",
      "metadata": {
        "id": "OaRo50hT_09t"
      },
      "source": [
        "The variable names in this program are clear, and so the comments are redundant,\n",
        "i.e. they repeat information that is already obvious in the code. The\n",
        "uncommented code is just as easy to read:"
      ]
    },
    {
      "cell_type": "code",
      "execution_count": null,
      "metadata": {
        "id": "WI2DbG7C_09u",
        "outputId": "d406fc3f-37fe-4c9b-bedc-3bd42167a871"
      },
      "outputs": [
        {
          "name": "stdout",
          "output_type": "stream",
          "text": [
            "34.95\n"
          ]
        }
      ],
      "source": [
        "num_bars = 5\n",
        "cost = 6.99\n",
        "total_cost = num_bars * cost\n",
        "print(total_cost)"
      ]
    },
    {
      "cell_type": "markdown",
      "metadata": {
        "id": "QQFOYc5P_09u"
      },
      "source": [
        "However, if you use variable names that don't make the code clear, then comments\n",
        "can be useful. Here is the same program but with poor variable names:"
      ]
    },
    {
      "cell_type": "code",
      "execution_count": null,
      "metadata": {
        "id": "YlNswX7Z_09u",
        "outputId": "c6594a1a-0ef0-40f1-fddd-c7b9542d49df"
      },
      "outputs": [
        {
          "name": "stdout",
          "output_type": "stream",
          "text": [
            "34.95\n"
          ]
        }
      ],
      "source": [
        "# Bad variable names: don't do this!\n",
        "\n",
        "t_0 = 5      # 5 bars\n",
        "s = 6.99     # each bar costs s dollars\n",
        "t = t_0 * s  # calculate the total cost\n",
        "print(t)     # print the total cost"
      ]
    },
    {
      "cell_type": "markdown",
      "metadata": {
        "id": "cGp5T6_I_09v"
      },
      "source": [
        "Without the comments it is hard to tell what the program is doing:"
      ]
    },
    {
      "cell_type": "code",
      "execution_count": null,
      "metadata": {
        "id": "Or18vKxM_09v",
        "outputId": "738a3d55-95eb-41eb-d341-e4f5c568e906"
      },
      "outputs": [
        {
          "name": "stdout",
          "output_type": "stream",
          "text": [
            "34.95\n"
          ]
        }
      ],
      "source": [
        "t_0 = 5\n",
        "s = 6.99\n",
        "t = t_0 * s\n",
        "print(t)"
      ]
    },
    {
      "cell_type": "markdown",
      "metadata": {
        "id": "IE5aAlH5_09w"
      },
      "source": [
        "All these programs do the same thing, but they differ in **readability**. In\n",
        "general, always aim to write code that is easy to read and understand."
      ]
    },
    {
      "cell_type": "markdown",
      "metadata": {
        "id": "4Sp1mdV7_09w"
      },
      "source": [
        "## Debugging"
      ]
    },
    {
      "cell_type": "markdown",
      "metadata": {
        "id": "1fGNfxmm_09w"
      },
      "source": [
        "A programmers job consists of writing code, reading code, and **debugging**\n",
        "code. **Debugging** is the general name given to the process of finding and\n",
        "fixing mistakes in a program. A mistake in a program is called a **bug**, and\n",
        "bugs usually cause errors.\n",
        "\n",
        "There three main categories of errors that we will see in this course:\n",
        "\n",
        "- **Syntax errors**. These are errors in the structure/grammar of the program.\n",
        "  Python usually catches them automatically and displays an error message.\n",
        "- **Runtime errors**. If a program has no syntax errors, it could still\n",
        "  encounter an error while it is running. For example, a program might divide by\n",
        "  0, in which case the program crashes an error message. What happens when a\n",
        "  runtime error occurs depends on the error: it could crash the program, or\n",
        "  cause unexpected output, or maybe do nothing at all.\n",
        "- **Logic errors**, or **Semantic errors**. These terms mean the same thing, and\n",
        "  refer to errors in the design of your program. For example, if you get the\n",
        "  Pythagorean theorem wrong, then your program will calculate the wrong\n",
        "  hypotenuse. This is not a syntax error or a runtime error, it is a logic\n",
        "  error. Python can't usually help you with these errors, because it doesn't\n",
        "  know what you want the program to do."
      ]
    },
    {
      "cell_type": "markdown",
      "metadata": {
        "id": "oKWbzyU__09x"
      },
      "source": [
        "## Questions\n",
        "\n",
        "1. Answer *true* or *false* for each of these questions about assignment\n",
        "   statements:\n",
        "   - the LHS is evaluated first (True)\n",
        "   - the LHS is always a variable (True)\n",
        "   - the RHS is never just a single variable (False)\n",
        "\n",
        "2. Which of the following are legal Python variable names?\n",
        "   - `cloudType`\n",
        "   - `cloud9`\n",
        "   - `9cloud` (illegal)\n",
        "   - `class`\n",
        "   - `if`\n",
        "   - `delete!` (illegal)\n",
        "   - `_delete_`\n",
        "\n",
        "3. What are all the Python keywords that start with a capital letter?\n",
        "\n",
        "4. Answer *true* or *false* for each of these questions about Python variable\n",
        "   names:\n",
        "   - they can begin with an underscore, `_`\n",
        "   - they can contain spaces (F)\n",
        "   - they can contain uppercase letters\n",
        "   - they cannot start with a number\n",
        "   - they can contain the `=` character (F)\n",
        "\n",
        "5. What statement would you write to import the `sys` module into a program?\n",
        "\n",
        "           import sys\n",
        "\n",
        "\n",
        "6. Give an example of a function that takes:\n",
        "   - exactly one argument\n",
        "   - one or two arguments\n",
        "   - exactly two arguments\n",
        "   - any number of arguments, i.e. 0 or more\n",
        "\n",
        "         def concatenate(*args):\n",
        "           return ''.join(args)\n",
        "Usage: concatenate() returns '' (empty string)\n",
        "\n",
        "      concatenate('Hello', ' ', 'World!') returns 'Hello World!'.\n",
        "      \n",
        "\n",
        "7. What are three good uses for source code comments?\n",
        "\n",
        "8. Give an example of a bad use of a source code comment.\n",
        "\n",
        "9. What are the three main categories of errors that we will see in this course?\n",
        "   Give an example of each.\n",
        "   "
      ]
    }
  ],
  "metadata": {
    "colab": {
      "provenance": []
    },
    "kernelspec": {
      "display_name": "Python 3",
      "name": "python3"
    },
    "language_info": {
      "codemirror_mode": {
        "name": "ipython",
        "version": 3
      },
      "file_extension": ".py",
      "mimetype": "text/x-python",
      "name": "python",
      "nbconvert_exporter": "python",
      "pygments_lexer": "ipython3",
      "version": "3.10.12"
    }
  },
  "nbformat": 4,
  "nbformat_minor": 0
}