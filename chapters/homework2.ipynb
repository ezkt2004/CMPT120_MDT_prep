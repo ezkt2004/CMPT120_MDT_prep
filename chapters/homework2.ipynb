{
  "cells": [
    {
      "cell_type": "markdown",
      "metadata": {
        "id": "Fa4fFNq3mz7b"
      },
      "source": [
        "# Homework 2"
      ]
    },
    {
      "cell_type": "markdown",
      "metadata": {
        "id": "NSA7hm7Umz7d"
      },
      "source": [
        "This is based on chapter 2 of the course notes, and covers a few topics not\n",
        "mentioned there.\n",
        "\n",
        "You can also do the exercises at the bottom of the textbook chapter."
      ]
    },
    {
      "cell_type": "markdown",
      "metadata": {
        "id": "DL_T9Fhtmz7d"
      },
      "source": [
        "## Formatting with F-strings"
      ]
    },
    {
      "cell_type": "markdown",
      "metadata": {
        "id": "hAyhq6HFmz7d"
      },
      "source": [
        "**f-strings** are a convenient way to format strings in Python.\n",
        "\n",
        "To begin, this program says *hello* to the user in a couple of ways using\n",
        "ordinary strings:"
      ]
    },
    {
      "cell_type": "code",
      "execution_count": null,
      "metadata": {
        "id": "QP5L4M7smz7e",
        "outputId": "27ade786-fbb3-4460-b304-52ec8b434fe8"
      },
      "outputs": [
        {
          "name": "stdout",
          "output_type": "stream",
          "text": [
            "Hello, Clara!\n",
            "Hello, Clara !\n"
          ]
        }
      ],
      "source": [
        "user = 'Clara'\n",
        "print('Hello, ' + user + '!')\n",
        "print('Hello,', user, '!')"
      ]
    },
    {
      "cell_type": "markdown",
      "metadata": {
        "id": "t0Nr80Klmz7f"
      },
      "source": [
        "When you use `,` in `print`, it always adds a space between the items, and so in\n",
        "the second example there is an extra space before the `!`."
      ]
    },
    {
      "cell_type": "markdown",
      "metadata": {
        "id": "dEsAa98imz7f"
      },
      "source": [
        "A more flexible way of printing is to use an **f-string**:"
      ]
    },
    {
      "cell_type": "code",
      "execution_count": null,
      "metadata": {
        "id": "cOfNUq5Pmz7f",
        "outputId": "a43c48f0-e1f3-4148-a39f-6768790ce992"
      },
      "outputs": [
        {
          "name": "stdout",
          "output_type": "stream",
          "text": [
            "Hello Clara!\n"
          ]
        }
      ],
      "source": [
        "user = 'Clara'\n",
        "print(f'Hello {user}!')"
      ]
    },
    {
      "cell_type": "markdown",
      "metadata": {
        "id": "qe4QwTADmz7f"
      },
      "source": [
        "Many programmers prefer this style because it is compact and easy to read.\n",
        "\n",
        "An f-string is a regular Python string that starts with `f`. Any variable or\n",
        "expression that appears inside `{}` curly braces is evaluated and its result is\n",
        "put into the string at that position."
      ]
    },
    {
      "cell_type": "markdown",
      "metadata": {
        "id": "ccP0xl_emz7g"
      },
      "source": [
        "### Number precision with f-strings"
      ]
    },
    {
      "cell_type": "markdown",
      "metadata": {
        "id": "srqwxXDdmz7g"
      },
      "source": [
        "Consider this program:"
      ]
    },
    {
      "cell_type": "code",
      "execution_count": null,
      "metadata": {
        "id": "SpxPhuX2mz7g",
        "outputId": "6ce49363-0be7-48e5-a907-a2136a775bb4"
      },
      "outputs": [
        {
          "name": "stdout",
          "output_type": "stream",
          "text": [
            "x = 12.3456\n"
          ]
        }
      ],
      "source": [
        "x = 12.3456\n",
        "print(f'x = {x}')"
      ]
    },
    {
      "cell_type": "markdown",
      "metadata": {
        "id": "oc6cJsxTmz7g"
      },
      "source": [
        "There are 4 digits after the decimal point. But what if you only want 2 digits?\n",
        "One way to do it is to use `round`:"
      ]
    },
    {
      "cell_type": "code",
      "execution_count": null,
      "metadata": {
        "id": "bJh2Zt6Xmz7g",
        "outputId": "905c84c7-37d1-4f47-8dbe-302c90b57b3c"
      },
      "outputs": [
        {
          "name": "stdout",
          "output_type": "stream",
          "text": [
            "x = 12.35\n"
          ]
        }
      ],
      "source": [
        "x = 12.3456\n",
        "print(f'x = {round(x, 2)}')"
      ]
    },
    {
      "cell_type": "markdown",
      "metadata": {
        "id": "HDhe8_zGmz7h"
      },
      "source": [
        "Setting the precision of a number is so common that f-strings can do it\n",
        "directly:"
      ]
    },
    {
      "cell_type": "code",
      "execution_count": null,
      "metadata": {
        "id": "KsUhLB6Xmz7h",
        "outputId": "deeb796e-6f8f-4084-b828-ce72162d416d"
      },
      "outputs": [
        {
          "name": "stdout",
          "output_type": "stream",
          "text": [
            "x = 12.35\n"
          ]
        }
      ],
      "source": [
        "x = 12.3456\n",
        "print(f'x = {x:.2f}')  # f for float, 2 digits after the decimal point"
      ]
    },
    {
      "cell_type": "markdown",
      "metadata": {
        "id": "ToE98Tzlmz7h"
      },
      "source": [
        "When we write `{x:.2f}`, the `.2` means to put exactly two digits after the\n",
        "decimal point, and the `f` means to format the number in regular floating point\n",
        "style. Notice also that the last digit has been *rounded up*.\n",
        "\n",
        "If you want *more* digits after the decimal than the number has, extra 0s are\n",
        "added:"
      ]
    },
    {
      "cell_type": "code",
      "execution_count": null,
      "metadata": {
        "id": "ZGfZtyovmz7h",
        "outputId": "6fbfbf52-51f5-402b-b425-7acee68e13c9"
      },
      "outputs": [
        {
          "name": "stdout",
          "output_type": "stream",
          "text": [
            "x = 12.3456000\n"
          ]
        }
      ],
      "source": [
        "x = 12.3456\n",
        "print(f'x = {x:.7f}')"
      ]
    },
    {
      "cell_type": "markdown",
      "metadata": {
        "id": "0MsM_4Iqmz7h"
      },
      "source": [
        "### Comma Grouping with f-strings"
      ]
    },
    {
      "cell_type": "markdown",
      "metadata": {
        "id": "3SQ5PFUpmz7i"
      },
      "source": [
        "f-strings make it easy to write numbers in a style that uses commas to group\n",
        "three digits together by using a `,` like this:"
      ]
    },
    {
      "cell_type": "code",
      "execution_count": null,
      "metadata": {
        "id": "2AZt8MNEmz7i",
        "outputId": "50e91b4e-a590-46c3-ac73-9152d3e34c9e"
      },
      "outputs": [
        {
          "name": "stdout",
          "output_type": "stream",
          "text": [
            "cost is $1391.25\n",
            "cost is $1,391.25\n",
            "cost is $348,355,303.23\n"
          ]
        }
      ],
      "source": [
        "cost = 1391.25\n",
        "print(f'cost is ${cost:.2f}')  # cost is $1391.25\n",
        "print(f'cost is ${cost:,.2f}') # cost is $1,391.25\n",
        "\n",
        "cost = 348355303.232\n",
        "print(f'cost is ${cost:,.2f}')   # cost is $348,355,303.23"
      ]
    },
    {
      "cell_type": "markdown",
      "metadata": {
        "id": "Jf-N1-GWmz7i"
      },
      "source": [
        "### Padding with f-strings\n",
        "\n",
        "Sometimes you might want to print things in a column, and you can do this in a\n",
        "f-string by specifying a width for the field:"
      ]
    },
    {
      "cell_type": "code",
      "execution_count": null,
      "metadata": {
        "id": "Yr-Iwtkrmz7i",
        "outputId": "72ee2ccc-9b92-44e9-e296-392056d4b6ea"
      },
      "outputs": [
        {
          "name": "stdout",
          "output_type": "stream",
          "text": [
            "Clara     John      Jane      \n",
            "Murphy    Smith     Jones     \n"
          ]
        }
      ],
      "source": [
        "name1 = 'Clara'\n",
        "name2 = 'John'\n",
        "name3 = 'Jane'\n",
        "print(f'{name1:10}{name2:10}{name3:10}')\n",
        "\n",
        "name4 = 'Murphy'\n",
        "name5 = 'Smith'\n",
        "name6 = 'Jones'\n",
        "print(f'{name4:10}{name5:10}{name6:10}')"
      ]
    },
    {
      "cell_type": "markdown",
      "metadata": {
        "id": "RvWnQFGJmz7i"
      },
      "source": [
        "Formatting like this can tables of data easier to read."
      ]
    },
    {
      "cell_type": "markdown",
      "metadata": {
        "id": "DuUu3Ey-mz7i"
      },
      "source": [
        "## Practice Question 1"
      ]
    },
    {
      "cell_type": "markdown",
      "metadata": {
        "id": "R-dhNJjGmz7j"
      },
      "source": [
        "Write a program that uses variables to set the first name, last name, and age of\n",
        "person. Then use print statements and f-strings to print:\n",
        "\n",
        "```\n",
        "Hello, my name is [first name] [last name] and I am [age] years old.\n",
        "In 10 years, I will be [age + 10] years old.\n",
        "```"
      ]
    },
    {
      "cell_type": "code",
      "execution_count": null,
      "metadata": {
        "id": "yA5pjDHLmz7j"
      },
      "outputs": [],
      "source": [
        "# write your code here"
      ]
    },
    {
      "cell_type": "markdown",
      "metadata": {
        "id": "G53DouTimz7j"
      },
      "source": [
        "## Practice Question 2\n",
        "\n",
        "How many Big Macs would you need to stack on top of each other to reach from the\n",
        "ground to the top of the Empire State Building?\n",
        "\n",
        "Assume a McDonalds's Big Mac hamburger is 7.5cm thick, and costs $5.56. The\n",
        "Empire State Building is 443.2m tall.\n",
        "\n",
        "Write a program that uses variables to store the thickness and cost of a Big\n",
        "Mac, and the height of the Empire State Building, and then does a calculation to\n",
        "find the answer. Print the answer using an f-string.\n",
        "\n",
        "Be careful with the units! You may need to convert them.\n",
        "\n",
        "The output should look *exactly* like this:\n",
        "\n",
        "```\n",
        "# of Big Macs needed to reach the top: 5909.3\n",
        "total cost: $32,855.89\n",
        "```"
      ]
    },
    {
      "cell_type": "code",
      "execution_count": 4,
      "metadata": {
        "id": "rFHNTfrJmz7j",
        "outputId": "b5e8bd85-1a67-466b-ad47-951387d74b1b",
        "colab": {
          "base_uri": "https://localhost:8080/"
        }
      },
      "outputs": [
        {
          "output_type": "stream",
          "name": "stdout",
          "text": [
            "# of Big Macs needed to reach the top: 5909.3\n",
            "total cost: $32,855.89\n"
          ]
        }
      ],
      "source": [
        "empirestate_height = 443.2\n",
        "big_macs_thickness = 0.075\n",
        "big_macs_cost = 5.56\n",
        "\n",
        "big_macs_needed = empirestate_height/big_macs_thickness\n",
        "total_cost = big_macs_needed * big_macs_cost\n",
        "\n",
        "print(f\"\"\"# of Big Macs needed to reach the top: {big_macs_needed:.1f}\n",
        "total cost: ${total_cost:,.2f}\"\"\")\n",
        "\n",
        "\n",
        "\n"
      ]
    },
    {
      "cell_type": "markdown",
      "metadata": {
        "id": "VEGx1hkPmz7j"
      },
      "source": [
        "## Practice Question 3"
      ]
    },
    {
      "cell_type": "markdown",
      "metadata": {
        "id": "crTUUVDimz7k"
      },
      "source": [
        "In the lecture code we saw this code that prints a raggedy-looking table of all\n",
        "Python keywords.\n",
        "\n",
        "We can make it much neater using f-strings. To do this, modify the first print\n",
        "statement in the above to use an f-string to print keyword names in a column 10\n",
        "characters wide:\n",
        "\n",
        "```\n",
        "False      None       True       and        as         \n",
        "assert     async      await      break      class      \n",
        "continue   def        del        elif       else       \n",
        "except     finally    for        from       global     \n",
        "if         import     in         is         lambda     \n",
        "nonlocal   not        or         pass       raise      \n",
        "return     try        while      with       yield\n",
        "\n",
        "# of keywords: 35\n",
        "```"
      ]
    },
    {
      "cell_type": "code",
      "execution_count": null,
      "metadata": {
        "id": "NfgGigNkmz7k",
        "outputId": "31f4aa88-e00a-4d47-c60d-eafb7a2b3ea2"
      },
      "outputs": [
        {
          "name": "stdout",
          "output_type": "stream",
          "text": [
            "False None True and as \n",
            "assert async await break class \n",
            "continue def del elif else \n",
            "except finally for from global \n",
            "if import in is lambda \n",
            "nonlocal not or pass raise \n",
            "return try while with yield \n",
            "\n",
            "# of keywords: 35\n"
          ]
        }
      ],
      "source": [
        "# print all the Python keywords\n",
        "\n",
        "from keyword import kwlist\n",
        "\n",
        "keywords = kwlist\n",
        "keywords.sort()\n",
        "for i, keyword in enumerate(keywords):\n",
        "    print(keyword, end=' ')  # <----- modify this line\n",
        "    if (i + 1) % 5 == 0:\n",
        "        print()\n",
        "\n",
        "print()\n",
        "print('# of keywords:', len(keywords))"
      ]
    }
  ],
  "metadata": {
    "kernelspec": {
      "display_name": "Python 3",
      "language": "python",
      "name": "python3"
    },
    "language_info": {
      "codemirror_mode": {
        "name": "ipython",
        "version": 3
      },
      "file_extension": ".py",
      "mimetype": "text/x-python",
      "name": "python",
      "nbconvert_exporter": "python",
      "pygments_lexer": "ipython3",
      "version": "3.8.10"
    },
    "colab": {
      "provenance": []
    }
  },
  "nbformat": 4,
  "nbformat_minor": 0
}