{
  "cells": [
    {
      "cell_type": "markdown",
      "metadata": {
        "id": "view-in-github",
        "colab_type": "text"
      },
      "source": [
        "<a href=\"https://colab.research.google.com/github/ezkt2004/CMPT120_MDT_prep/blob/main/chapters/homework3.ipynb\" target=\"_parent\"><img src=\"https://colab.research.google.com/assets/colab-badge.svg\" alt=\"Open In Colab\"/></a>"
      ]
    },
    {
      "cell_type": "markdown",
      "metadata": {
        "id": "r3UI186bNiE5"
      },
      "source": [
        "# Homework 3"
      ]
    },
    {
      "cell_type": "markdown",
      "metadata": {
        "id": "-Z8Ny6vrNiE7"
      },
      "source": [
        "This is based on chapter 3 of the course notes, and may cover a few topics not\n",
        "mentioned there.\n",
        "\n",
        "You can also do the exercises at the bottom of the textbook chapter."
      ]
    },
    {
      "cell_type": "markdown",
      "metadata": {
        "id": "ONhxaHo6NiE8"
      },
      "source": [
        "## Range Values in a for-loop"
      ]
    },
    {
      "cell_type": "markdown",
      "metadata": {
        "id": "0THtwHhlNiE8"
      },
      "source": [
        "We've seen that for-loops can print the numbers from 0 to 4 like this:"
      ]
    },
    {
      "cell_type": "code",
      "execution_count": null,
      "metadata": {
        "id": "j99vbsEHNiE9",
        "outputId": "6d101573-8a13-4031-87ed-77e137d132c6"
      },
      "outputs": [
        {
          "name": "stdout",
          "output_type": "stream",
          "text": [
            "0\n",
            "1\n",
            "2\n",
            "3\n",
            "4\n"
          ]
        }
      ],
      "source": [
        "for i in range(5):\n",
        "    print(i)"
      ]
    },
    {
      "cell_type": "markdown",
      "metadata": {
        "id": "QmIL5DfRNiE-"
      },
      "source": [
        "The first number is 0, and the last number is 4, i.e. one less than the 5 in\n",
        "`range(5)`.\n",
        "\n",
        "`range` can also take two arguments, a *start* and a *stop* value. For example,\n",
        "this prints the same thing as the above loop:"
      ]
    },
    {
      "cell_type": "code",
      "execution_count": null,
      "metadata": {
        "id": "kXWla9vWNiE-",
        "outputId": "05f0edaa-d064-49aa-e0a4-2187443450cf"
      },
      "outputs": [
        {
          "name": "stdout",
          "output_type": "stream",
          "text": [
            "0\n",
            "1\n",
            "2\n",
            "3\n",
            "4\n"
          ]
        }
      ],
      "source": [
        "for i in range(0, 5):\n",
        "    print(i)"
      ]
    },
    {
      "cell_type": "markdown",
      "metadata": {
        "id": "DriYn0ksNiE_"
      },
      "source": [
        "We can change the values to get different ranges. For example, this prints 1 to\n",
        "5:"
      ]
    },
    {
      "cell_type": "code",
      "execution_count": null,
      "metadata": {
        "id": "fkVFk-R3NiE_",
        "outputId": "1d502567-4b10-4640-a8ae-e931b36ea30a"
      },
      "outputs": [
        {
          "name": "stdout",
          "output_type": "stream",
          "text": [
            "1\n",
            "2\n",
            "3\n",
            "4\n",
            "5\n"
          ]
        }
      ],
      "source": [
        "for i in range(1, 6):\n",
        "    print(i)"
      ]
    },
    {
      "cell_type": "markdown",
      "metadata": {
        "id": "0uxSHuxHNiFA"
      },
      "source": [
        "Or we could print -10 to 10:"
      ]
    },
    {
      "cell_type": "code",
      "execution_count": null,
      "metadata": {
        "id": "5mu_fmGvNiFB",
        "outputId": "36b23502-7836-4135-c2cd-4f69d42bdb3f"
      },
      "outputs": [
        {
          "name": "stdout",
          "output_type": "stream",
          "text": [
            "-10\n",
            "-9\n",
            "-8\n",
            "-7\n",
            "-6\n",
            "-5\n",
            "-4\n",
            "-3\n",
            "-2\n",
            "-1\n",
            "0\n",
            "1\n",
            "2\n",
            "3\n",
            "4\n",
            "5\n",
            "6\n",
            "7\n",
            "8\n",
            "9\n",
            "10\n"
          ]
        }
      ],
      "source": [
        "for i in range(-10, 11):\n",
        "    print(i)"
      ]
    },
    {
      "cell_type": "markdown",
      "metadata": {
        "id": "HzHuXaC6NiFB"
      },
      "source": [
        "## Reverse Range Values"
      ]
    },
    {
      "cell_type": "markdown",
      "metadata": {
        "id": "8N-O0zkoNiFC"
      },
      "source": [
        "You can use `range` to print numbers in reverse:"
      ]
    },
    {
      "cell_type": "code",
      "execution_count": null,
      "metadata": {
        "id": "5VkJ1aqONiFC",
        "outputId": "e4331815-6e18-47eb-bd4f-fbd61ef67c25"
      },
      "outputs": [
        {
          "name": "stdout",
          "output_type": "stream",
          "text": [
            "5\n",
            "4\n",
            "3\n",
            "2\n",
            "1\n"
          ]
        }
      ],
      "source": [
        "for i in range(5, 0, -1):\n",
        "    print(i)"
      ]
    },
    {
      "cell_type": "markdown",
      "metadata": {
        "id": "Eb84R0TsNiFD"
      },
      "source": [
        "Notice that 0 is *not* printed, since `range(start, stop)` never includes the\n",
        "`stop` value."
      ]
    },
    {
      "cell_type": "markdown",
      "metadata": {
        "id": "yKu1sOydNiFD"
      },
      "source": [
        "## Practice Question 1"
      ]
    },
    {
      "cell_type": "markdown",
      "metadata": {
        "id": "rUf-EhfGNiFD"
      },
      "source": [
        "Write a function called `print_countdown(n)` that prints the numbers from `n`\n",
        "down to 1, followed by \"Blastoff!\".\n",
        "\n",
        "For instance, `print_countdown(3)` prints:\n",
        "\n",
        "```\n",
        "3 ...\n",
        "2 ...\n",
        "1 ...\n",
        "Blastoff!\n",
        "```"
      ]
    },
    {
      "cell_type": "code",
      "execution_count": 5,
      "metadata": {
        "id": "riqVxBGCNiFD",
        "outputId": "213d8db5-f353-47df-a899-952ff639b0bc",
        "colab": {
          "base_uri": "https://localhost:8080/"
        }
      },
      "outputs": [
        {
          "output_type": "stream",
          "name": "stdout",
          "text": [
            "3 ...\n",
            "2 ...\n",
            "1 ...\n",
            "Blast off !\n"
          ]
        }
      ],
      "source": [
        "def print_countdown(n):\n",
        "  for i in range(n, 0, -1):\n",
        "    print(f\"{i} ...\")\n",
        "  print('Blast off!')\n",
        "\n",
        "\n",
        "print_countdown(3)"
      ]
    },
    {
      "cell_type": "markdown",
      "metadata": {
        "id": "b3HBqlvBNiFD"
      },
      "source": [
        "## Practice Question 2"
      ]
    },
    {
      "cell_type": "markdown",
      "metadata": {
        "id": "XEOx16DoNiFE"
      },
      "source": [
        "Write a function called `number_triangle(rows)` that prints a triangle of\n",
        "numbers in *exactly* format shown.\n",
        "\n",
        "For example, `number_triangle(5)` prints:\n",
        "\n",
        "```\n",
        "1\n",
        "2 3\n",
        "3 4 5\n",
        "4 5 6 7\n",
        "5 6 7 8 9\n",
        "```\n",
        "\n",
        "Your function should work when `rows` is any positive integer, 1 or greater.\n",
        "It's okay if the triangle is not perfectly aligned when `rows` is large."
      ]
    },
    {
      "cell_type": "code",
      "execution_count": 19,
      "metadata": {
        "id": "aTEBrT79NiFE",
        "outputId": "cb3c5782-49ce-49de-fdfa-e6a8d4dfe62a",
        "colab": {
          "base_uri": "https://localhost:8080/"
        }
      },
      "outputs": [
        {
          "output_type": "stream",
          "name": "stdout",
          "text": [
            "1\n",
            "2 3\n",
            "3 4 5\n",
            "4 5 6 7\n",
            "5 6 7 8 9\n"
          ]
        }
      ],
      "source": [
        "def number_triangle(rows):\n",
        "   for i in range(1, rows + 1):\n",
        "       # Directly construct the sequence as a string\n",
        "       number_sequence = ''\n",
        "       for j in range(i, i + i):  # Start from 'i' and go up to 'i + i - 1'\n",
        "        number_sequence += str(j) + ' ' # Add space after each number\n",
        "       print(number_sequence.strip()) # Use strip() to remove trailing space\n",
        "\n",
        "number_triangle(5)\n",
        "\n",
        "# toby donaldson version\n",
        "def number_triangle(rows):\n",
        "    for i in range(1, rows + 1):\n",
        "        for j in range(i, 2 * i):\n",
        "            print(f'{j} ', end='')\n",
        "        print()\n",
        "\n",
        "number_triangle(5)\n",
        "\n"
      ]
    },
    {
      "cell_type": "markdown",
      "metadata": {
        "id": "opX9blm9NiFE"
      },
      "source": [
        "## Practice Question 3"
      ]
    },
    {
      "cell_type": "markdown",
      "metadata": {
        "id": "VANCRShzNiFE"
      },
      "source": [
        "Write a function called `number_triangle2(rows)` that prints a triangle of\n",
        "numbers in the same layout as above, but the numbers are different.\n",
        "\n",
        "For example, `number_triangle2(5)` prints:\n",
        "\n",
        "```\n",
        "  1\n",
        "  2   3\n",
        "  4   5   6\n",
        "  7   8   9  10\n",
        " 11  12  13  14  15\n",
        "```\n",
        "\n",
        "Print each of the numbers right-aligned in a field of width 3 to the that rows\n",
        "are printed neatly.\n",
        "\n",
        "Your function should work when `rows` is any positive integer, 1 or greater.\n",
        "It's okay if the triangle is not perfectly aligned when the numbers in it are\n",
        "longer than 3 digits."
      ]
    },
    {
      "cell_type": "code",
      "execution_count": 32,
      "metadata": {
        "id": "lYn2d-MeNiFE",
        "outputId": "bff9948a-0b77-460f-964f-61898eda17a6",
        "colab": {
          "base_uri": "https://localhost:8080/"
        }
      },
      "outputs": [
        {
          "output_type": "stream",
          "name": "stdout",
          "text": [
            "  1 \n",
            "  2   3 \n",
            "  4   5   6 \n",
            "  7   8   9  10 \n",
            " 11  12  13  14  15 \n"
          ]
        }
      ],
      "source": [
        "def number_triangle2(rows):\n",
        "    n = 1\n",
        "    for i in range(1, rows + 1):\n",
        "        for j in range(i, 2 * i):\n",
        "            print(f'{n:3} ', end='')\n",
        "            n += 1\n",
        "        print()\n",
        "\n",
        "number_triangle2(5)"
      ]
    }
  ],
  "metadata": {
    "kernelspec": {
      "display_name": "Python 3",
      "language": "python",
      "name": "python3"
    },
    "language_info": {
      "codemirror_mode": {
        "name": "ipython",
        "version": 3
      },
      "file_extension": ".py",
      "mimetype": "text/x-python",
      "name": "python",
      "nbconvert_exporter": "python",
      "pygments_lexer": "ipython3",
      "version": "3.8.10"
    },
    "colab": {
      "provenance": [],
      "include_colab_link": true
    }
  },
  "nbformat": 4,
  "nbformat_minor": 0
}