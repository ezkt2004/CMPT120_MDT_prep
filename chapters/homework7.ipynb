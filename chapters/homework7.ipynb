{
 "cells": [
  {
   "cell_type": "markdown",
   "metadata": {},
   "source": [
    "# Homework 7"
   ]
  },
  {
   "cell_type": "markdown",
   "metadata": {},
   "source": [
    "This is based on chapter 7 of the course notes, and may introduce a few topics\n",
    "not mentioned there.\n",
    "\n",
    "You can also do the exercises at the bottom of the textbook chapter."
   ]
  },
  {
   "cell_type": "markdown",
   "metadata": {},
   "source": [
    "## Practice Question 1"
   ]
  },
  {
   "cell_type": "markdown",
   "metadata": {},
   "source": [
    "Write a function called `first_n(filename, n)` that prints the first `n` line of\n",
    "the file `filename`, in the order they occur, and with line numbers as shown\n",
    "below.\n",
    "\n",
    "For example, the file [example.txt](example.txt) contains this:\n",
    "\n",
    "```\n",
    "The road to wisdom?—Well, it’s\n",
    "plain and simple to express:\n",
    "Err\n",
    "and err\n",
    "and err again,\n",
    "but less\n",
    "and less\n",
    "and less.\n",
    "-- Piet Hein\n",
    "```\n",
    "\n",
    "`first_n('example.txt', 3)` prints:\n",
    "\n",
    "```\n",
    "1. The road to wisdom?—Well, it’s\n",
    "2. plain and simple to express:\n",
    "3. Err\n",
    "```\n",
    "\n",
    "You can assume `n` is always a non-negative integer and that it is never more\n",
    "than the number of lines in the file. This is not a practical assumption, but it\n",
    "simplifies the problem. When you are done, think about how you might handle the\n",
    "case where `n` is greater than the number of lines in the file.\n",
    "\n",
    "*Don't* use lists or other such data structures in your answer."
   ]
  },
  {
   "cell_type": "markdown",
   "metadata": {},
   "source": [
    "## Practice Question 2"
   ]
  },
  {
   "cell_type": "markdown",
   "metadata": {},
   "source": [
    "Modify the code for the Spelling Bee game in the notes so that it also prints\n",
    "the highest-scoring word. \n",
    "\n",
    "For example, for letters SIGLENP with required letter G, the output looks like\n",
    "this:\n",
    "\n",
    "```\n",
    "... list of words ...\n",
    "\n",
    "Total score: 1324\n",
    "Total scoring words: 202\n",
    "Best word: SLEEPINGS, 16 points\n",
    "```\n",
    "\n",
    "If the letters are LGXNCEI and the required letter is I, then:\n",
    "\n",
    "```\n",
    "... list of words ...\n",
    "\n",
    "Total score: 401\n",
    "Total scoring words: 72\n",
    "Best word: EXCELLING, 16 points\n",
    "```\n",
    "\n",
    "If there's more than one highest-scoring word, print the one that comes first\n",
    "alphabetically.\n",
    "\n",
    "*Don't* use lists or other such data structures in your answer. Also, keep in\n",
    "mind that [words.txt](words.txt) is already in alphabetical order."
   ]
  },
  {
   "cell_type": "markdown",
   "metadata": {},
   "source": [
    "## Practice Question 3\n",
    "\n",
    "Write a function that prints all the words in [words.txt](words.txt) that match\n",
    "this rule:\n",
    "\n",
    "- contains two or more *x*s (not necessarily consecutive)\n",
    "\n",
    "The output should look like this:\n",
    "\n",
    "```\n",
    "executrix has 2 x's\n",
    "executrixes has 2 x's\n",
    "exotoxic has 2 x's\n",
    "exotoxin has 2 x's\n",
    "exotoxins has 2 x's\n",
    "maxixe has 2 x's\n",
    "maxixes has 2 x's\n",
    "paxwax has 2 x's\n",
    "paxwaxes has 2 x's\n",
    "9 words have two or more x's\n",
    "```\n",
    "\n",
    "Of course, your function should word for any list of words, not just the ones in\n",
    "[words.txt](words.txt)."
   ]
  },
  {
   "cell_type": "markdown",
   "metadata": {},
   "source": [
    "## Practice Question 4"
   ]
  },
  {
   "cell_type": "markdown",
   "metadata": {},
   "source": [
    "Write a function that prints all the words in [words.txt](words.txt) that match\n",
    "this rule:\n",
    "\n",
    "- contains 6 or more copies of the same letter, other than *s*\n",
    "\n",
    "The output should look like this:\n",
    "\n",
    "```\n",
    "executrix has 2 x's\n",
    "executrixes has 2 x's\n",
    "exotoxic has 2 x's\n",
    "exotoxin has 2 x's\n",
    "exotoxins has 2 x's\n",
    "maxixe has 2 x's\n",
    "maxixes has 2 x's\n",
    "paxwax has 2 x's\n",
    "paxwaxes has 2 x's\n",
    "9 words have two or more x's\n",
    "```\n",
    "\n",
    "Of course, your function should word for any list of words, not just the ones in\n",
    "[words.txt](words.txt)."
   ]
  },
  {
   "cell_type": "markdown",
   "metadata": {},
   "source": [
    "## Practice Question 5\n",
    "\n",
    "Write a function that prints then number of times *a*, *e*, *i*, *o*, and *u*\n",
    "occur in in [words.txt](words.txt). Print a summary at the end.\n",
    "\n",
    "For instance, in the words *doodle*, *e* occurs 2 times, and `e` occurs 1 time.\n",
    "The result of the vowels appear 0 times.\n",
    "\n",
    "The output should look like this:\n",
    "\n",
    "```\n",
    "a: 68574\n",
    "e: 106752\n",
    "i: 77392\n",
    "o: 54538\n",
    "u: 31151\n",
    "```\n",
    "\n",
    "Of course, your function should word for any list of words, not just the ones in\n",
    "[words.txt](words.txt)."
   ]
  },
  {
   "cell_type": "markdown",
   "metadata": {},
   "source": [
    "## Practice Question 6"
   ]
  },
  {
   "cell_type": "markdown",
   "metadata": {},
   "source": [
    "Write a function that prints all the words in [words.txt](words.txt) that\n",
    "contain at least occurrence of the vowels *a*, *e*, *i*, *o*, and *u* (in any\n",
    "order, duplicates allowed).\n",
    "\n",
    "The output should look like this:\n",
    "\n",
    "```\n",
    "aboideau\n",
    "aboideaus\n",
    "aboideaux\n",
    "aboiteau\n",
    "...\n",
    "vocabularies\n",
    "voraciousness\n",
    "voraciousnesses\n",
    "warehousing\n",
    "598 words contain all five vowels\n",
    "```\n",
    "\n",
    "Of course, your function should word for any list of words, not just the ones in\n",
    "[words.txt](words.txt)."
   ]
  },
  {
   "cell_type": "markdown",
   "metadata": {},
   "source": [
    "---"
   ]
  },
  {
   "cell_type": "markdown",
   "metadata": {},
   "source": [
    "The following questions process text files containing *numbers*, one per line.\n",
    "Unless the question says otherwise, all the numbers are valid `float`s, and\n",
    "there are no errors or blank lines.\n",
    "\n",
    "Your code should work with empty files, so make sure to test it with the file\n",
    "[empty.txt](empty.txt).\n",
    "\n",
    "Here are some files you should use for testing:\n",
    "\n",
    "- [empty.txt](empty.txt): an empty file\n",
    "- [num1.txt](num1.txt): a file with one number\n",
    "- [num2.txt](num2.txt): a file with two numbers\n",
    "- [num5.txt](num5.txt): a file with five numbers"
   ]
  },
  {
   "cell_type": "markdown",
   "metadata": {},
   "source": [
    "## Practice Question 7"
   ]
  },
  {
   "cell_type": "markdown",
   "metadata": {},
   "source": [
    "Write a function called `print_file_sum(fname)` that prints the sum of the\n",
    "numbers in the file `fname`. Assume that `fname` is a valid file name.\n",
    "\n",
    "For example, calling these functions:\n",
    "\n",
    "```python\n",
    "print_file_sum('empty.txt')\n",
    "print_file_sum('num1.txt')\n",
    "print_file_sum('num2.txt')\n",
    "print_file_sum('num5.txt')\n",
    "```\n",
    "\n",
    "should print:\n",
    "\n",
    "```\n",
    "Sum of numbers in empty.txt: 0.0\n",
    "Sum of numbers in num1.txt: 3.5\n",
    "Sum of numbers in num2.txt: 5.35\n",
    "Sum of numbers in num5.txt: 6.31\n",
    "```"
   ]
  },
  {
   "cell_type": "markdown",
   "metadata": {},
   "source": [
    "## Practice Question 8"
   ]
  },
  {
   "cell_type": "markdown",
   "metadata": {},
   "source": [
    "Write a function called `print_file_stats(fname)` that prints the average and\n",
    "the [standard deviation](https://en.wikipedia.org/wiki/Standard_deviation) of\n",
    "the numbers in the file `fname`.\n",
    "\n",
    "If the $n$ numbers in the file are called $x_1, x_2, \\ldots, x_n$, then their\n",
    "average is:\n",
    "\n",
    "$$\n",
    "\\text{avg} = \\frac{x_1 + x_2 + \\cdots + x_n}{n}\n",
    "$$\n",
    "\n",
    "And their standard deviation is:\n",
    "\n",
    "$$\n",
    "\\text{standard deviation} = \\sqrt{\\frac{(x_1-\\text{avg})^2}{n} + \\frac{(x_2-\\text{avg})^2}{n} + \\ldots + \\frac{(x_n-\\text{avg})^2}{n}}\n",
    "$$\n",
    "\n",
    "If you call:\n",
    "\n",
    "```python\n",
    "print_file_stats('empty.txt')\n",
    "print_file_stats('num1.txt')\n",
    "print_file_stats('num2.txt')\n",
    "print_file_stats('num5.txt')\n",
    "```\n",
    "\n",
    "Your program should print this:\n",
    "\n",
    "```\n",
    "empty.txt error: must contain at least 2 numbers (has 0)\n",
    "\n",
    "num1.txt error: must contain at least 2 numbers (has 1)\n",
    "\n",
    "              File: num2.txt\n",
    "           Average: 2.67\n",
    "Standard deviation: 0.47\n",
    "\n",
    "              File: num5.txt\n",
    "           Average: 1.26\n",
    "Standard deviation: 2.29\n",
    "```\n",
    "\n",
    "**Hint** If you process the file twice, make sure to call its `.close()` method\n",
    "before opening it the second time."
   ]
  },
  {
   "cell_type": "code",
   "execution_count": null,
   "metadata": {},
   "outputs": [],
   "source": [
    "#\n",
    "# Sample solution\n",
    "#\n",
    "import math # for sqrt\n",
    "\n",
    "def print_file_stats(fname):\n",
    "    #\n",
    "    # get the average\n",
    "    #\n",
    "    file_obj = open(fname)\n",
    "    total = 0\n",
    "    count = 0\n",
    "    for line in file_obj:\n",
    "        total += float(line)\n",
    "        count += 1\n",
    "    \n",
    "    #\n",
    "    # if there are no numbers, print a message and return\n",
    "    #\n",
    "    if count < 2:\n",
    "        print(f'{fname} error: must contain at least 2 numbers (has {count})')\n",
    "        return\n",
    "    \n",
    "    # if we get here, there is at least one number in the file\n",
    "    avg = total / count\n",
    "    \n",
    "    #\n",
    "    # get the standard deviation\n",
    "    #\n",
    "    file_obj.close()\n",
    "    file_obj = open(fname)\n",
    "    sd_total = 0\n",
    "    for line in file_obj:\n",
    "        sd_total += (float(line) - avg) ** 2\n",
    "    std_dev = math.sqrt(sd_total / count)\n",
    "    \n",
    "    print(f'              File: {fname}')\n",
    "    print(f'           Average: {avg:.2f}')\n",
    "    print(f'Standard deviation: {std_dev:.2f}')\n",
    "\n",
    "print_file_stats('empty.txt')\n",
    "print()\n",
    "print_file_stats('num1.txt')\n",
    "print()\n",
    "print_file_stats('num2.txt')\n",
    "print()\n",
    "print_file_stats('num5.txt')"
   ]
  }
 ],
 "metadata": {
  "kernelspec": {
   "display_name": "Python 3",
   "language": "python",
   "name": "python3"
  },
  "language_info": {
   "codemirror_mode": {
    "name": "ipython",
    "version": 3
   },
   "file_extension": ".py",
   "mimetype": "text/x-python",
   "name": "python",
   "nbconvert_exporter": "python",
   "pygments_lexer": "ipython3",
   "version": "3.10.12"
  }
 },
 "nbformat": 4,
 "nbformat_minor": 2
}
