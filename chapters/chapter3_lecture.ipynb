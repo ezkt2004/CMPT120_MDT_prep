{
  "cells": [
    {
      "cell_type": "markdown",
      "metadata": {
        "id": "view-in-github",
        "colab_type": "text"
      },
      "source": [
        "<a href=\"https://colab.research.google.com/github/ezkt2004/CMPT120_MDT_prep/blob/main/chapters/chapter3_lecture.ipynb\" target=\"_parent\"><img src=\"https://colab.research.google.com/assets/colab-badge.svg\" alt=\"Open In Colab\"/></a>"
      ]
    },
    {
      "cell_type": "markdown",
      "metadata": {
        "id": "cjsmyWXsNrEg"
      },
      "source": [
        "# Chapter 3 Lecture Notes\n",
        "\n",
        "Please read chapter 3 of the textbook.\n",
        "\n",
        "These notes take ~3 lecture hours to cover."
      ]
    },
    {
      "cell_type": "markdown",
      "metadata": {
        "id": "03GF04JPC75N"
      },
      "source": [
        "## Functions\n",
        "\n",
        "Python comes with many built-in functions, like `print`, `round`, `math.sqrt`,\n",
        "and so on. Now lets see how can define and use our own functions."
      ]
    },
    {
      "cell_type": "markdown",
      "metadata": {
        "id": "OL8RJoC4C75N"
      },
      "source": [
        "## Defining New Functions\n",
        "\n",
        "Python uses the `def` keyword to define new functions:"
      ]
    },
    {
      "cell_type": "code",
      "execution_count": null,
      "metadata": {
        "id": "zg41qDeCC75O"
      },
      "outputs": [],
      "source": [
        "def print_a_joke():              # header line of function\n",
        "    print(\"Knock knock!\")        # body of function\n",
        "    print(\"Who's there?\")\n",
        "    print(\"A broken pencil.\")\n",
        "    print(\"A broken pencil who?\")\n",
        "    print(\"Never mind, it's pointless.\")"
      ]
    },
    {
      "cell_type": "markdown",
      "metadata": {
        "id": "i8LwltqzC75P"
      },
      "source": [
        "The name of this function is `print_a_joke()`, and it takes no arguments.\n",
        "\n",
        "The line `def print_a_joke():` is called the **function header**. A Python\n",
        "function header starts with `def` and ends with a colon `:`. The indented block\n",
        "of statements underneath the header is called the **function body**. In Python,\n",
        "it is required to use indentation to define the body of a function. If you don't\n",
        "use indentation, or you use it incorrectly, you can get a syntax error.\n",
        "\n",
        "> **Note** Pythons use of \"significant whitespace\" in this way is one of its\n",
        "> unusual features. In most other languages use the programmer can indent lines\n",
        "> how they like. But Python *requires* consistent indentation --- otherwise you\n",
        "> can get syntax errors. The point of requiring this is to make programmers\n",
        "> indent their code to make it easier for humans to read.\n",
        "\n",
        "If you run a function definition, the function is *defined* but not *executed*.\n",
        "To execute the function, you need to call it:"
      ]
    },
    {
      "cell_type": "code",
      "execution_count": null,
      "metadata": {
        "id": "hjd-KH5LC75Q",
        "outputId": "def8502b-5c18-4826-859b-eedecc095630"
      },
      "outputs": [
        {
          "name": "stdout",
          "output_type": "stream",
          "text": [
            "Knock knock!\n",
            "Who's there?\n",
            "A broken pencil.\n",
            "A broken pencil who?\n",
            "Never mind, it's pointless.\n"
          ]
        }
      ],
      "source": [
        "print_a_joke()"
      ]
    },
    {
      "cell_type": "markdown",
      "metadata": {
        "id": "hI3aLQspC75S"
      },
      "source": [
        "## Function Parameters"
      ]
    },
    {
      "cell_type": "markdown",
      "metadata": {
        "id": "Cez7dhQ0C75S"
      },
      "source": [
        "Here is the definition of a function called with exactly one argument:"
      ]
    },
    {
      "cell_type": "code",
      "execution_count": null,
      "metadata": {
        "id": "77BdI6geC75T"
      },
      "outputs": [],
      "source": [
        "def say_hi_to(name):\n",
        "    print(f'Hi {name}!')\n",
        "    print(\"How's things?\")"
      ]
    },
    {
      "cell_type": "markdown",
      "metadata": {
        "id": "vRTtrW5rC75T"
      },
      "source": [
        "In the header line, the variable `name` is called a **parameter**. When you call\n",
        "the function, the value of the argument is assigned to the parameter:"
      ]
    },
    {
      "cell_type": "code",
      "execution_count": null,
      "metadata": {
        "id": "YSGixJc-C75T",
        "outputId": "c2fba809-562b-4758-94e1-76495bcfc19b"
      },
      "outputs": [
        {
          "name": "stdout",
          "output_type": "stream",
          "text": [
            "Hi Alice!\n",
            "How's things?\n"
          ]
        }
      ],
      "source": [
        "say_hi_to(\"Alice\")"
      ]
    },
    {
      "cell_type": "markdown",
      "metadata": {
        "id": "9rZknECWC75U"
      },
      "source": [
        "When `say_hi_to(\"Alice\")` is called, the value `\"Alice\"` is assigned to the\n",
        "parameter `name`. The function then prints `Hi, Alice!`. It as if it executes\n",
        "this code:"
      ]
    },
    {
      "cell_type": "code",
      "execution_count": null,
      "metadata": {
        "id": "HS7qEmODC75U",
        "outputId": "fd12dc44-8c42-4673-e33d-8ac5b2474845"
      },
      "outputs": [
        {
          "name": "stdout",
          "output_type": "stream",
          "text": [
            "Hi Alice!\n",
            "How's things?\n"
          ]
        }
      ],
      "source": [
        "name = \"Alice\"\n",
        "print(f'Hi {name}!')\n",
        "print(\"How's things?\")"
      ]
    },
    {
      "cell_type": "markdown",
      "metadata": {
        "id": "hgwsa4EuC75U"
      },
      "source": [
        "You can also pass variables and expressions as arguments:"
      ]
    },
    {
      "cell_type": "code",
      "execution_count": 18,
      "metadata": {
        "colab": {
          "base_uri": "https://localhost:8080/"
        },
        "id": "RLf_DOdmC75U",
        "outputId": "8bcbccfa-1dde-400d-85ab-daf6e4075e1d"
      },
      "outputs": [
        {
          "output_type": "stream",
          "name": "stdout",
          "text": [
            "Hi Alice!\n",
            "How's things?\n",
            "\n",
            "Hi Queen Alice!\n",
            "How's things?\n",
            "\n",
            "Hi Queen Alice!\n",
            "How's things?\n"
          ]
        }
      ],
      "source": [
        "def say_hi_to(name):\n",
        "    print(f'Hi {name}!')\n",
        "    print(\"How's things?\")\n",
        "\n",
        "first_name = \"Alice\"\n",
        "say_hi_to(first_name)\n",
        "print()\n",
        "say_hi_to('Queen ' + first_name)\n",
        "print()\n",
        "say_hi_to(f\"Queen {first_name}\")\n"
      ]
    },
    {
      "cell_type": "markdown",
      "metadata": {
        "id": "_W8V5nkaC75V"
      },
      "source": [
        "When an argument is an expression, it is evaluated before being passed to the\n",
        "function, so the function call `say_hi_to('Queen ' + first_name)` is equivalent\n",
        "to `say_hi_to(\"Queen Alice\")`."
      ]
    },
    {
      "cell_type": "markdown",
      "metadata": {
        "id": "WR1aoWa5C75V"
      },
      "source": [
        "## Calling Functions in Functions\n",
        "\n",
        "You can call functions from other functions. For instance, this function prints\n",
        "a `|` before and after a given word:"
      ]
    },
    {
      "cell_type": "code",
      "execution_count": null,
      "metadata": {
        "id": "SFgeNcuSC75V",
        "outputId": "8be11d89-464c-4a0c-9fee-b5feb7f2221d"
      },
      "outputs": [
        {
          "name": "stdout",
          "output_type": "stream",
          "text": [
            "| Hello |\n"
          ]
        }
      ],
      "source": [
        "def print_in_bars(word):\n",
        "    print(f'| {word} |')\n",
        "\n",
        "print_in_bars('Hello')"
      ]
    },
    {
      "cell_type": "markdown",
      "metadata": {
        "id": "-5n5wWnTC75V"
      },
      "source": [
        "Now we can use that to print a word in a box:"
      ]
    },
    {
      "cell_type": "code",
      "execution_count": null,
      "metadata": {
        "id": "KGXf1hwQC75V",
        "outputId": "bcd2d7a3-34dd-4954-f32d-c327ef9ebc0a"
      },
      "outputs": [
        {
          "name": "stdout",
          "output_type": "stream",
          "text": [
            "+-------+\n",
            "| Hello |\n",
            "+-------+\n",
            "+---------+\n",
            "| Goodbye |\n",
            "+---------+\n"
          ]
        }
      ],
      "source": [
        "def print_in_box(word):\n",
        "    n = len(word) + 2\n",
        "    print('+' + '-' * n + '+')\n",
        "    print_in_bars(word)\n",
        "    print('+' + '-' * n + '+')\n",
        "\n",
        "print_in_box('Hello')\n",
        "print_in_box('Goodbye')"
      ]
    },
    {
      "cell_type": "markdown",
      "metadata": {
        "id": "LdLmkPJMC75W"
      },
      "source": [
        "We could print multiple boxes like this:"
      ]
    },
    {
      "cell_type": "code",
      "execution_count": null,
      "metadata": {
        "id": "WHVE0dIfC75W",
        "outputId": "31c7f233-d3ff-4032-be89-7ac64877903c"
      },
      "outputs": [
        {
          "name": "stdout",
          "output_type": "stream",
          "text": [
            "+------------+\n",
            "| Welcome to |\n",
            "+------------+\n",
            "+---------+\n",
            "| Python! |\n",
            "+---------+\n"
          ]
        }
      ],
      "source": [
        "def print_two_words(word1, word2):\n",
        "    print_in_box(word1)\n",
        "    print_in_box(word2)\n",
        "\n",
        "print_two_words('Welcome to', 'Python!')"
      ]
    },
    {
      "cell_type": "markdown",
      "metadata": {
        "id": "c44zs260C75W"
      },
      "source": [
        "## Repetition with for-loops\n",
        "\n",
        "Suppose you want to print the numbers from 0 to 3. You could do it like this:"
      ]
    },
    {
      "cell_type": "code",
      "execution_count": null,
      "metadata": {
        "id": "h6dLGqOgC75W",
        "outputId": "80b67cc3-b05a-47d8-9e86-7e3956a15a45"
      },
      "outputs": [
        {
          "name": "stdout",
          "output_type": "stream",
          "text": [
            "0\n",
            "1\n",
            "2\n",
            "3\n"
          ]
        }
      ],
      "source": [
        "print(0)\n",
        "print(1)\n",
        "print(2)\n",
        "print(3)"
      ]
    },
    {
      "cell_type": "markdown",
      "metadata": {
        "id": "-2KdC76rC75W"
      },
      "source": [
        "This is a bit repetitive, and will become quite tedious if we want to print,\n",
        "say, the numbers from 0 to 100.\n",
        "\n",
        "Instead, we can use a `for` loop:"
      ]
    },
    {
      "cell_type": "code",
      "execution_count": null,
      "metadata": {
        "id": "3R1_sFTcC75X",
        "outputId": "a400c0e3-18e6-4d83-ef70-f85e7edca14d"
      },
      "outputs": [
        {
          "name": "stdout",
          "output_type": "stream",
          "text": [
            "0\n",
            "1\n",
            "2\n",
            "3\n"
          ]
        }
      ],
      "source": [
        "for i in range(4):\n",
        "    print(i)"
      ]
    },
    {
      "cell_type": "markdown",
      "metadata": {
        "id": "VS27BFMQC75X"
      },
      "source": [
        "This is called a **for-loop**. The line starting with `for` is called the\n",
        "**for-loop header**, and the indented code underneath is called the **for-loop\n",
        "body**. As with functions, Python *requires* that the for-loop body be\n",
        "consistently indented. Otherwise, you will get a syntax error.\n",
        "\n",
        "When the for-loop header is called, Python creates a new variable `i`. You can\n",
        "name this variable whatever you like, but `i` is the traditional name for a\n",
        "for-loop variable, short for \"index\".\n",
        "\n",
        "The expression `range(4)` generates the numbers 0, 1, 2, and 3. The expression\n",
        "`i in range(4)` then sets `i` to each of these numbers in turn, executing the\n",
        "for-loop body each time. It's as if it ran this code:"
      ]
    },
    {
      "cell_type": "code",
      "execution_count": null,
      "metadata": {
        "id": "BrYYkVcDC75X",
        "outputId": "2e3e3adc-a5de-40ec-a0f0-92173a536047"
      },
      "outputs": [
        {
          "name": "stdout",
          "output_type": "stream",
          "text": [
            "0\n",
            "1\n",
            "2\n",
            "3\n"
          ]
        }
      ],
      "source": [
        "#\n",
        "# for i in range(4):\n",
        "#     print(i)\n",
        "#\n",
        "\n",
        "i = 0\n",
        "print(i)\n",
        "i = 1\n",
        "print(i)\n",
        "i = 2\n",
        "print(i)\n",
        "i = 3\n",
        "print(i)"
      ]
    },
    {
      "cell_type": "markdown",
      "metadata": {
        "id": "WZk8gdZNC75X"
      },
      "source": [
        "Another way of thinking about this is that the for-loop sets the value of `i`,\n",
        "executes the body, and then \"loops back\" to the for-loop header to set the value\n",
        "of `i` again. After the last value of `i` is used, the for-loop ends.\n",
        "\n",
        "It's easy to make it loop any number of times:"
      ]
    },
    {
      "cell_type": "code",
      "execution_count": null,
      "metadata": {
        "id": "fen3j4QiC75X",
        "outputId": "0f388778-0231-4192-b97d-6306b7c47901"
      },
      "outputs": [
        {
          "name": "stdout",
          "output_type": "stream",
          "text": [
            "0\n",
            "1\n",
            "2\n",
            "3\n",
            "4\n",
            "5\n",
            "6\n",
            "7\n",
            "8\n",
            "9\n"
          ]
        }
      ],
      "source": [
        "for i in range(10):\n",
        "    print(i)"
      ]
    },
    {
      "cell_type": "markdown",
      "metadata": {
        "id": "nF4y12YcC75Y"
      },
      "source": [
        "Or to change what gets printed:"
      ]
    },
    {
      "cell_type": "code",
      "execution_count": null,
      "metadata": {
        "id": "D7i946PUC75Y",
        "outputId": "61d22ee0-70e7-42fe-8906-3997f0dd1124"
      },
      "outputs": [
        {
          "name": "stdout",
          "output_type": "stream",
          "text": [
            "0 squared is 0\n",
            "1 squared is 1\n",
            "2 squared is 4\n",
            "3 squared is 9\n",
            "4 squared is 16\n",
            "5 squared is 25\n",
            "6 squared is 36\n",
            "7 squared is 49\n",
            "8 squared is 64\n",
            "9 squared is 81\n"
          ]
        }
      ],
      "source": [
        "for i in range(10):\n",
        "    print(f'{i} squared is {i ** 2}')"
      ]
    },
    {
      "cell_type": "markdown",
      "metadata": {
        "id": "-YbtweiVC75Y"
      },
      "source": [
        "You could print numbers in their own boxes:"
      ]
    },
    {
      "cell_type": "code",
      "execution_count": null,
      "metadata": {
        "id": "qm-aBuEdC75Z",
        "outputId": "a6b398bb-90b3-413e-c9b3-7b43da0952d9"
      },
      "outputs": [
        {
          "name": "stdout",
          "output_type": "stream",
          "text": [
            "+---+\n",
            "| 0 |\n",
            "+---+\n",
            "\n",
            "+---+\n",
            "| 1 |\n",
            "+---+\n",
            "\n",
            "+---+\n",
            "| 2 |\n",
            "+---+\n",
            "\n",
            "+---+\n",
            "| 3 |\n",
            "+---+\n",
            "\n"
          ]
        }
      ],
      "source": [
        "for i in range(4):\n",
        "    print_in_box(str(i))\n",
        "    print()"
      ]
    },
    {
      "cell_type": "markdown",
      "metadata": {
        "id": "5jh0JRv9C75Z"
      },
      "source": [
        "You can put for-loops inside functions:"
      ]
    },
    {
      "cell_type": "code",
      "execution_count": null,
      "metadata": {
        "id": "YRZgMUnKC75Z",
        "outputId": "6be348d1-8279-40e8-dda7-cf45974d8431"
      },
      "outputs": [
        {
          "name": "stdout",
          "output_type": "stream",
          "text": [
            "*****\n",
            "*****\n",
            "*****\n",
            "*****\n",
            "*****\n",
            "\n",
            "***\n",
            "***\n",
            "***\n"
          ]
        }
      ],
      "source": [
        "def print_grid(n):\n",
        "    for i in range(n):\n",
        "        print('*' * n)\n",
        "\n",
        "print_grid(5)\n",
        "print()\n",
        "print_grid(3)"
      ]
    },
    {
      "cell_type": "markdown",
      "metadata": {
        "id": "1pkHaqZgC75Z"
      },
      "source": [
        "### Example: Printing Numbers in Reverse"
      ]
    },
    {
      "cell_type": "markdown",
      "metadata": {
        "id": "aaP8addMC75Z"
      },
      "source": [
        "Write a program that asks the user to enter a countdown number, and then prints\n",
        "the down from that number to 1, followed by \"Done!\". Here's a sample run of\n",
        "the program:\n",
        "\n",
        "```\n",
        "Enter the countdown number: 5\n",
        "5\n",
        "4\n",
        "3\n",
        "2\n",
        "1\n",
        "Done!\n",
        "```\n",
        "\n",
        "To answer this question, let's first sketch the general program with some\n",
        "comments:\n",
        "\n",
        "```python\n",
        "# ask the user for a number n\n",
        "\n",
        "# print the numbers from n down to 1\n",
        "\n",
        "# print final message\n",
        "```\n",
        "\n",
        "Now we can implement the program by filling in the details:"
      ]
    },
    {
      "cell_type": "code",
      "execution_count": null,
      "metadata": {
        "id": "2jHMdyakC75Z",
        "outputId": "99d04056-23a0-4463-92e9-1b17886abd4e"
      },
      "outputs": [
        {
          "name": "stdout",
          "output_type": "stream",
          "text": [
            "5\n",
            "4\n",
            "3\n",
            "2\n",
            "1\n",
            "Done!\n"
          ]
        }
      ],
      "source": [
        "# ask the user for a number n\n",
        "n = int(input(\"Enter the countdown number: \"))\n",
        "\n",
        "# print the numbers from n down to 1\n",
        "for i in range(n):\n",
        "    print(n - i)\n",
        "\n",
        "# print final message\n",
        "print('Done!')"
      ]
    },
    {
      "cell_type": "markdown",
      "metadata": {
        "id": "JoPOpIJKC75a"
      },
      "source": [
        "### Example: Printing a Multiplication Table\n",
        "\n",
        "Write a program that prints a multiplication table for the numbers 1 through 10.\n",
        "The output should look like this:\n",
        "\n",
        "```\n",
        "1   2   3   4   5   6   7   8   9  10\n",
        "2   4   6   8  10  12  14  16  18  20\n",
        "3   6   9  12  15  18  21  24  27  30\n",
        "4   8  12  16  20  24  28  32  36  40\n",
        "5  10  15  20  25  30  35  40  45  50\n",
        "6  12  18  24  30  36  42  48  54  60\n",
        "7  14  21  28  35  42  49  56  63  70\n",
        "8  16  24  32  40  48  56  64  72  80\n",
        "9  18  27  36  45  54  63  72  81  90\n",
        "10 20  30  40  50  60  70  80  90 100\n",
        "```\n",
        "\n",
        "For example, if you look at column 7 and row 4, you can see that 4 * 7 = 28.\n",
        "Notice that the number are right-aligned so that they line up in a column.\n",
        "\n",
        "First, let's write a loop that prints the first column:"
      ]
    },
    {
      "cell_type": "code",
      "execution_count": null,
      "metadata": {
        "id": "rMvm_NwjC75a",
        "outputId": "8da3ae50-2ff2-4851-f566-60d4d7152154"
      },
      "outputs": [
        {
          "name": "stdout",
          "output_type": "stream",
          "text": [
            "1\n",
            "2\n",
            "3\n",
            "4\n",
            "5\n",
            "6\n",
            "7\n",
            "8\n",
            "9\n",
            "10\n"
          ]
        }
      ],
      "source": [
        "for row in range(1, 11):\n",
        "    print(row)"
      ]
    },
    {
      "cell_type": "markdown",
      "metadata": {
        "id": "oGP0oHu7C75a"
      },
      "source": [
        "For each row we want to print the numbers 1 through 10, but multiplied by the\n",
        "row number. We can do this by nesting another for-loop inside our for-loop:"
      ]
    },
    {
      "cell_type": "code",
      "execution_count": null,
      "metadata": {
        "id": "PgKsOWGBC75a",
        "outputId": "e49058f0-ecb6-4fcf-9d3c-8e5bacc93bcf"
      },
      "outputs": [
        {
          "name": "stdout",
          "output_type": "stream",
          "text": [
            "1 2 3 4 5 6 7 8 9 10 \n",
            "2 4 6 8 10 12 14 16 18 20 \n",
            "3 6 9 12 15 18 21 24 27 30 \n",
            "4 8 12 16 20 24 28 32 36 40 \n",
            "5 10 15 20 25 30 35 40 45 50 \n",
            "6 12 18 24 30 36 42 48 54 60 \n",
            "7 14 21 28 35 42 49 56 63 70 \n",
            "8 16 24 32 40 48 56 64 72 80 \n",
            "9 18 27 36 45 54 63 72 81 90 \n",
            "10 20 30 40 50 60 70 80 90 100 \n"
          ]
        }
      ],
      "source": [
        "for row in range(1, 11):\n",
        "    for col in range(1, 11):\n",
        "        print(row * col, end=' ') # puts a space\n",
        "    print()  # prints a new line at the end of each row"
      ]
    },
    {
      "cell_type": "markdown",
      "metadata": {
        "id": "--KkzJbhC75a"
      },
      "source": [
        "This prints right numbers and the right rows, but alignment is off. One way to\n",
        "fix this is to print the numbers using f-strings, and print each number in a\n",
        "field of width 3 (the length of 100, the largest number in the table):"
      ]
    },
    {
      "cell_type": "code",
      "execution_count": null,
      "metadata": {
        "id": "1PQEoucyC75b",
        "outputId": "acec1223-afbc-47b8-8d5c-b2e42e0566f3"
      },
      "outputs": [
        {
          "name": "stdout",
          "output_type": "stream",
          "text": [
            "  1   2   3   4   5   6   7   8   9  10 \n",
            "  2   4   6   8  10  12  14  16  18  20 \n",
            "  3   6   9  12  15  18  21  24  27  30 \n",
            "  4   8  12  16  20  24  28  32  36  40 \n",
            "  5  10  15  20  25  30  35  40  45  50 \n",
            "  6  12  18  24  30  36  42  48  54  60 \n",
            "  7  14  21  28  35  42  49  56  63  70 \n",
            "  8  16  24  32  40  48  56  64  72  80 \n",
            "  9  18  27  36  45  54  63  72  81  90 \n",
            " 10  20  30  40  50  60  70  80  90 100 \n"
          ]
        }
      ],
      "source": [
        "for row in range(1, 11):\n",
        "    for col in range(1, 11):\n",
        "        print(f'{row * col:3}', end=' ') # puts a space\n",
        "    print()  # prints a new line at the end of each row"
      ]
    },
    {
      "cell_type": "markdown",
      "metadata": {
        "id": "JpChD7UsC75b"
      },
      "source": [
        "Another feature that might be nice to have is to print a line of dashes after\n",
        "just the top row of the table:"
      ]
    },
    {
      "cell_type": "code",
      "execution_count": null,
      "metadata": {
        "id": "jQ77IBoaC75b",
        "outputId": "1d332e31-9954-4b69-d848-095768517d1a"
      },
      "outputs": [
        {
          "name": "stdout",
          "output_type": "stream",
          "text": [
            "  1   2   3   4   5   6   7   8   9  10 \n",
            "----------------------------------------\n",
            "  1   2   3   4   5   6   7   8   9  10 \n",
            "  2   4   6   8  10  12  14  16  18  20 \n",
            "  3   6   9  12  15  18  21  24  27  30 \n",
            "  4   8  12  16  20  24  28  32  36  40 \n",
            "  5  10  15  20  25  30  35  40  45  50 \n",
            "  6  12  18  24  30  36  42  48  54  60 \n",
            "  7  14  21  28  35  42  49  56  63  70 \n",
            "  8  16  24  32  40  48  56  64  72  80 \n",
            "  9  18  27  36  45  54  63  72  81  90 \n",
            " 10  20  30  40  50  60  70  80  90 100 \n"
          ]
        }
      ],
      "source": [
        "#\n",
        "# print the top row of numbers\n",
        "#\n",
        "for i in range(1, 11):\n",
        "    print(f'{i:3}', end=' ')\n",
        "\n",
        "#\n",
        "# print a line of dashes to separate the top row from the table\n",
        "#\n",
        "print()\n",
        "print('-' * 40)\n",
        "\n",
        "#\n",
        "# print the table\n",
        "#\n",
        "for row in range(1, 11):\n",
        "    for col in range(1, 11):\n",
        "        print(f'{row * col:3}', end=' ') # puts a space\n",
        "    print()  # prints a new line at the end of each row"
      ]
    },
    {
      "cell_type": "markdown",
      "metadata": {
        "id": "-qMo-MLQC75b"
      },
      "source": [
        "Now lets add a special first column that shows the row number:"
      ]
    },
    {
      "cell_type": "code",
      "execution_count": null,
      "metadata": {
        "id": "7vag8CinC75b",
        "outputId": "a591dc52-fab4-4d45-86fa-923a7bfd74a1"
      },
      "outputs": [
        {
          "name": "stdout",
          "output_type": "stream",
          "text": [
            "  1   2   3   4   5   6   7   8   9  10 \n",
            "----------------------------------------\n",
            "  1 |   1   2   3   4   5   6   7   8   9  10 \n",
            "  2 |   2   4   6   8  10  12  14  16  18  20 \n",
            "  3 |   3   6   9  12  15  18  21  24  27  30 \n",
            "  4 |   4   8  12  16  20  24  28  32  36  40 \n",
            "  5 |   5  10  15  20  25  30  35  40  45  50 \n",
            "  6 |   6  12  18  24  30  36  42  48  54  60 \n",
            "  7 |   7  14  21  28  35  42  49  56  63  70 \n",
            "  8 |   8  16  24  32  40  48  56  64  72  80 \n",
            "  9 |   9  18  27  36  45  54  63  72  81  90 \n",
            " 10 |  10  20  30  40  50  60  70  80  90 100 \n"
          ]
        }
      ],
      "source": [
        "#\n",
        "# print the top row of numbers\n",
        "#\n",
        "for i in range(1, 11):\n",
        "    print(f'{i:3}', end=' ')\n",
        "\n",
        "#\n",
        "# print a line of dashes to separate the top row from the table\n",
        "#\n",
        "print()\n",
        "print('-' * 40)\n",
        "\n",
        "#\n",
        "# print the table\n",
        "#\n",
        "for row in range(1, 11):\n",
        "    print(f'{row:3} |', end=' ')\n",
        "    for col in range(1, 11):\n",
        "        print(f'{row * col:3}', end=' ') # puts a space\n",
        "    print()  # prints a new line at the end of each row"
      ]
    },
    {
      "cell_type": "markdown",
      "metadata": {
        "id": "aYVJ_DlxC75b"
      },
      "source": [
        "Now the first row is mis-aligned, so lets fix that by adding some space:"
      ]
    },
    {
      "cell_type": "code",
      "execution_count": null,
      "metadata": {
        "id": "3LnM0uJZC75c",
        "outputId": "eb0810bf-bd74-4712-8d1d-f32e17e1b831"
      },
      "outputs": [
        {
          "name": "stdout",
          "output_type": "stream",
          "text": [
            "       1   2   3   4   5   6   7   8   9  10 \n",
            "     ----------------------------------------\n",
            "  1 |  1   2   3   4   5   6   7   8   9  10 \n",
            "  2 |  2   4   6   8  10  12  14  16  18  20 \n",
            "  3 |  3   6   9  12  15  18  21  24  27  30 \n",
            "  4 |  4   8  12  16  20  24  28  32  36  40 \n",
            "  5 |  5  10  15  20  25  30  35  40  45  50 \n",
            "  6 |  6  12  18  24  30  36  42  48  54  60 \n",
            "  7 |  7  14  21  28  35  42  49  56  63  70 \n",
            "  8 |  8  16  24  32  40  48  56  64  72  80 \n",
            "  9 |  9  18  27  36  45  54  63  72  81  90 \n",
            " 10 | 10  20  30  40  50  60  70  80  90 100 \n"
          ]
        }
      ],
      "source": [
        "#\n",
        "# print the top row of numbers\n",
        "#\n",
        "print('     ', end='')\n",
        "for i in range(1, 11):\n",
        "    print(f'{i:3}', end=' ')\n",
        "\n",
        "#\n",
        "# print a line of dashes to separate the top row from the table\n",
        "#\n",
        "print()\n",
        "print('     ', end='')\n",
        "print('-' * 40)\n",
        "\n",
        "#\n",
        "# print the table\n",
        "#\n",
        "for row in range(1, 11):\n",
        "    print(f'{row:3} |', end='')\n",
        "    for col in range(1, 11):\n",
        "        print(f'{row * col:3}', end=' ') # puts a space\n",
        "    print()  # prints a new line at the end of each row"
      ]
    },
    {
      "cell_type": "markdown",
      "metadata": {
        "id": "9s77-7opC75c"
      },
      "source": [
        "Lets stop here: this is pretty good, it's a little more readable."
      ]
    },
    {
      "cell_type": "markdown",
      "metadata": {
        "id": "jpHV1WNyC75c"
      },
      "source": [
        "## Local Variables in Functions\n",
        "\n",
        "You can define variables inside functions, and they are called **local\n",
        "variables**, and are said to be **local** to the function:"
      ]
    },
    {
      "cell_type": "code",
      "execution_count": null,
      "metadata": {
        "id": "ADZoWM09C75d"
      },
      "outputs": [],
      "source": [
        "def greet_person(first_name, last_name):\n",
        "    name = first_name + ' ' + last_name\n",
        "    print(f'Hi {name}!')"
      ]
    },
    {
      "cell_type": "markdown",
      "metadata": {
        "id": "_DlJyhioC75d"
      },
      "source": [
        "Here, `name` is a local variable because it is defined inside the function body.\n",
        "\n",
        "Also, the parameters of a function are local variables. Here, both `first_name`\n",
        "and `last_name` are local variables.\n",
        "\n",
        "Local variables can only be used inside their function. It's an error to call\n",
        "them outside of the function:"
      ]
    },
    {
      "cell_type": "code",
      "execution_count": null,
      "metadata": {
        "id": "ln652wPQC75d",
        "outputId": "9cb7e312-7848-48ad-f15e-714dfe1c07bd"
      },
      "outputs": [
        {
          "name": "stdout",
          "output_type": "stream",
          "text": [
            "hypotenuse = 5.0\n"
          ]
        },
        {
          "ename": "NameError",
          "evalue": "name 'hypotenuse' is not defined",
          "output_type": "error",
          "traceback": [
            "\u001b[0;31m---------------------------------------------------------------------------\u001b[0m",
            "\u001b[0;31mNameError\u001b[0m                                 Traceback (most recent call last)",
            "\u001b[0;32m/tmp/ipykernel_18462/3906861462.py\u001b[0m in \u001b[0;36m<module>\u001b[0;34m\u001b[0m\n\u001b[1;32m      4\u001b[0m \u001b[0;34m\u001b[0m\u001b[0m\n\u001b[1;32m      5\u001b[0m \u001b[0mprint_hypotenuse\u001b[0m\u001b[0;34m(\u001b[0m\u001b[0;36m3\u001b[0m\u001b[0;34m,\u001b[0m \u001b[0;36m4\u001b[0m\u001b[0;34m)\u001b[0m\u001b[0;34m\u001b[0m\u001b[0;34m\u001b[0m\u001b[0m\n\u001b[0;32m----> 6\u001b[0;31m \u001b[0mprint\u001b[0m\u001b[0;34m(\u001b[0m\u001b[0mhypotenuse\u001b[0m\u001b[0;34m)\u001b[0m  \u001b[0;31m# error: hypotenuse is not defined\u001b[0m\u001b[0;34m\u001b[0m\u001b[0;34m\u001b[0m\u001b[0m\n\u001b[0m\u001b[1;32m      7\u001b[0m                    \u001b[0;31m#        outside print_hypotenuse\u001b[0m\u001b[0;34m\u001b[0m\u001b[0;34m\u001b[0m\u001b[0;34m\u001b[0m\u001b[0m\n",
            "\u001b[0;31mNameError\u001b[0m: name 'hypotenuse' is not defined"
          ]
        }
      ],
      "source": [
        "def print_hypotenuse(side1, side2):\n",
        "    hypotenuse = (side1 ** 2 + side2 ** 2) ** 0.5\n",
        "    print(f'hypotenuse = {hypotenuse}')\n",
        "\n",
        "print_hypotenuse(3, 4)\n",
        "print(hypotenuse)  # error: hypotenuse is not defined\n",
        "                   #        outside print_hypotenuse"
      ]
    },
    {
      "cell_type": "markdown",
      "metadata": {
        "id": "NQXAGKIzC75d"
      },
      "source": [
        "`NameError` means that Python doesn't recognize the variable `hypotenuse`."
      ]
    },
    {
      "cell_type": "markdown",
      "metadata": {
        "id": "pvypv77iC75d"
      },
      "source": [
        "## Stack Diagrams"
      ]
    },
    {
      "cell_type": "markdown",
      "metadata": {
        "id": "O9Mq7pUFC75d"
      },
      "source": [
        "A **stack diagram** is a way to trace a running program.\n",
        "\n",
        "Every time Python calls a function, it \"stacks\" the function call on top of the\n",
        "most recent function call. The place in memory where these functions are stored\n",
        "is called the **call stack**. The most recently called function is always on the\n",
        "top of the call stack.\n",
        "\n",
        "For example:"
      ]
    },
    {
      "cell_type": "code",
      "execution_count": null,
      "metadata": {
        "id": "yy553m05C75e",
        "outputId": "9c71763e-12fd-4798-e731-31dbe61579b9"
      },
      "outputs": [
        {
          "name": "stdout",
          "output_type": "stream",
          "text": [
            "11\n"
          ]
        }
      ],
      "source": [
        "def f(x):\n",
        "    print(x + 1)\n",
        "\n",
        "def g(a):\n",
        "    n = a + 2\n",
        "    f(2 * n)\n",
        "\n",
        "g(3)  # prints 11"
      ]
    },
    {
      "cell_type": "markdown",
      "metadata": {
        "id": "rXSBy4S5C75e"
      },
      "source": [
        "When `g(3)` is called, it's put on the call stack:\n",
        "\n",
        "```\n",
        "  g(3)\n",
        "---------\n",
        "call stack\n",
        "```\n",
        "\n",
        "Next parameter `a` is assigned the argument value 3:\n",
        "\n",
        "```\n",
        "  a = 3\n",
        "  g(3)\n",
        "---------\n",
        "call stack\n",
        "```\n",
        "\n",
        "Then the local variable `n` is defined and assigned the value of `a + 2`, which\n",
        "is 5:\n",
        "\n",
        "```\n",
        "  n = 5\n",
        "  a = 3\n",
        "  g(3)\n",
        "---------\n",
        "call stack\n",
        "```\n",
        "\n",
        "At this point the stack shows that the function `g` has been called, and the\n",
        "local variables `a` and `n` have been defined.\n",
        "\n",
        "Next, `f(2 * n)` is called. Since `n` is 5, this is the same as `f(10)`:\n",
        "\n",
        "```\n",
        "  f(10)\n",
        "  n = 5\n",
        "  a = 3\n",
        "  g(3)\n",
        "---------\n",
        "call stack\n",
        "```\n",
        "\n",
        "The first thing the call to `f(10)` does is assign the parameter `x` the value\n",
        "of the argument 10:\n",
        "\n",
        "```\n",
        "  x = 10\n",
        "  f(10)\n",
        "  n = 5\n",
        "  a = 3\n",
        "  g(3)\n",
        "---------\n",
        "call stack\n",
        "```\n",
        "\n",
        "> **Careful!** The variables `a` and `n` are local to the function `g`, and so\n",
        "> cannot be accessed from `f`. Similarly, variable `x` is local to function `f`,\n",
        "> and so c`x` cannot be accessed from `g`.\n",
        "\n",
        "Finally, `print(x + 1)` is called, which is the same as `print(11)`, and so 11\n",
        "is printed.\n",
        "\n",
        "After 11 is printed, the call `f(10)` is finished, and so it is removed from\n",
        "from the call stack:\n",
        "\n",
        "```\n",
        "  n = 5\n",
        "  a = 3\n",
        "  g(3)\n",
        "---------\n",
        "call stack\n",
        "```\n",
        "\n",
        "Function call `g(3)` is also finished, so it is removed, leaving the call stack\n",
        "empty:\n",
        "\n",
        "```\n",
        "\n",
        "---------\n",
        "call stack\n",
        "```\n",
        "\n",
        "This means the program is finished."
      ]
    },
    {
      "cell_type": "markdown",
      "metadata": {
        "id": "FsAQRbLhC75e"
      },
      "source": [
        "## Tracebacks"
      ]
    },
    {
      "cell_type": "markdown",
      "metadata": {
        "id": "qR98C0HCC75e"
      },
      "source": [
        "All these details about the stack are handled automatically by Python. But\n",
        "sometimes, especially when debugging a program, it is useful to keep track of\n",
        "the stack yourself.\n",
        "\n",
        "In Python, a **traceback** is printed when a runtime error occurs. It is\n",
        "essentially a print-out of the stack diagram at the time of the error. It can\n",
        "look messy and intimidating at first, but when you know what to look for it can\n",
        "be a useful tool for debugging. The traceback shows exactly what functions were\n",
        "called leading up to the error.\n",
        "\n",
        "For example, consider this code which intentionally causes an error:"
      ]
    },
    {
      "cell_type": "code",
      "execution_count": null,
      "metadata": {
        "id": "wjHPL_wlC75e",
        "outputId": "97f5ab79-1603-404f-ba60-40a4ae770750"
      },
      "outputs": [
        {
          "name": "stdout",
          "output_type": "stream",
          "text": [
            "+----------+\n"
          ]
        },
        {
          "ename": "NameError",
          "evalue": "name 'wrd' is not defined",
          "output_type": "error",
          "traceback": [
            "\u001b[0;31m---------------------------------------------------------------------------\u001b[0m",
            "\u001b[0;31mNameError\u001b[0m                                 Traceback (most recent call last)",
            "\u001b[0;32m/tmp/ipykernel_18462/2308679195.py\u001b[0m in \u001b[0;36m<module>\u001b[0;34m\u001b[0m\n\u001b[1;32m      8\u001b[0m     \u001b[0mprint\u001b[0m\u001b[0;34m(\u001b[0m\u001b[0;34m'+'\u001b[0m \u001b[0;34m+\u001b[0m \u001b[0;34m'-'\u001b[0m \u001b[0;34m*\u001b[0m \u001b[0mn\u001b[0m \u001b[0;34m+\u001b[0m \u001b[0;34m'+'\u001b[0m\u001b[0;34m)\u001b[0m\u001b[0;34m\u001b[0m\u001b[0;34m\u001b[0m\u001b[0m\n\u001b[1;32m      9\u001b[0m \u001b[0;34m\u001b[0m\u001b[0m\n\u001b[0;32m---> 10\u001b[0;31m \u001b[0mbad_print_in_box\u001b[0m\u001b[0;34m(\u001b[0m\u001b[0;34m'Victory!'\u001b[0m\u001b[0;34m)\u001b[0m\u001b[0;34m\u001b[0m\u001b[0;34m\u001b[0m\u001b[0m\n\u001b[0m",
            "\u001b[0;32m/tmp/ipykernel_18462/2308679195.py\u001b[0m in \u001b[0;36mbad_print_in_box\u001b[0;34m(word)\u001b[0m\n\u001b[1;32m      5\u001b[0m     \u001b[0mn\u001b[0m \u001b[0;34m=\u001b[0m \u001b[0mlen\u001b[0m\u001b[0;34m(\u001b[0m\u001b[0mword\u001b[0m\u001b[0;34m)\u001b[0m \u001b[0;34m+\u001b[0m \u001b[0;36m2\u001b[0m\u001b[0;34m\u001b[0m\u001b[0;34m\u001b[0m\u001b[0m\n\u001b[1;32m      6\u001b[0m     \u001b[0mprint\u001b[0m\u001b[0;34m(\u001b[0m\u001b[0;34m'+'\u001b[0m \u001b[0;34m+\u001b[0m \u001b[0;34m'-'\u001b[0m \u001b[0;34m*\u001b[0m \u001b[0mn\u001b[0m \u001b[0;34m+\u001b[0m \u001b[0;34m'+'\u001b[0m\u001b[0;34m)\u001b[0m\u001b[0;34m\u001b[0m\u001b[0;34m\u001b[0m\u001b[0m\n\u001b[0;32m----> 7\u001b[0;31m     \u001b[0mbad_print_in_bars\u001b[0m\u001b[0;34m(\u001b[0m\u001b[0mword\u001b[0m\u001b[0;34m)\u001b[0m\u001b[0;34m\u001b[0m\u001b[0;34m\u001b[0m\u001b[0m\n\u001b[0m\u001b[1;32m      8\u001b[0m     \u001b[0mprint\u001b[0m\u001b[0;34m(\u001b[0m\u001b[0;34m'+'\u001b[0m \u001b[0;34m+\u001b[0m \u001b[0;34m'-'\u001b[0m \u001b[0;34m*\u001b[0m \u001b[0mn\u001b[0m \u001b[0;34m+\u001b[0m \u001b[0;34m'+'\u001b[0m\u001b[0;34m)\u001b[0m\u001b[0;34m\u001b[0m\u001b[0;34m\u001b[0m\u001b[0m\n\u001b[1;32m      9\u001b[0m \u001b[0;34m\u001b[0m\u001b[0m\n",
            "\u001b[0;32m/tmp/ipykernel_18462/2308679195.py\u001b[0m in \u001b[0;36mbad_print_in_bars\u001b[0;34m(word)\u001b[0m\n\u001b[1;32m      1\u001b[0m \u001b[0;32mdef\u001b[0m \u001b[0mbad_print_in_bars\u001b[0m\u001b[0;34m(\u001b[0m\u001b[0mword\u001b[0m\u001b[0;34m)\u001b[0m\u001b[0;34m:\u001b[0m\u001b[0;34m\u001b[0m\u001b[0;34m\u001b[0m\u001b[0m\n\u001b[0;32m----> 2\u001b[0;31m     \u001b[0mprint\u001b[0m\u001b[0;34m(\u001b[0m\u001b[0;34mf'| {wrd} |'\u001b[0m\u001b[0;34m)\u001b[0m  \u001b[0;31m# error: wrd is not defined!\u001b[0m\u001b[0;34m\u001b[0m\u001b[0;34m\u001b[0m\u001b[0m\n\u001b[0m\u001b[1;32m      3\u001b[0m \u001b[0;34m\u001b[0m\u001b[0m\n\u001b[1;32m      4\u001b[0m \u001b[0;32mdef\u001b[0m \u001b[0mbad_print_in_box\u001b[0m\u001b[0;34m(\u001b[0m\u001b[0mword\u001b[0m\u001b[0;34m)\u001b[0m\u001b[0;34m:\u001b[0m\u001b[0;34m\u001b[0m\u001b[0;34m\u001b[0m\u001b[0m\n\u001b[1;32m      5\u001b[0m     \u001b[0mn\u001b[0m \u001b[0;34m=\u001b[0m \u001b[0mlen\u001b[0m\u001b[0;34m(\u001b[0m\u001b[0mword\u001b[0m\u001b[0;34m)\u001b[0m \u001b[0;34m+\u001b[0m \u001b[0;36m2\u001b[0m\u001b[0;34m\u001b[0m\u001b[0;34m\u001b[0m\u001b[0m\n",
            "\u001b[0;31mNameError\u001b[0m: name 'wrd' is not defined"
          ]
        }
      ],
      "source": [
        "def bad_print_in_bars(word):\n",
        "    print(f'| {wrd} |')  # error: wrd is not defined!\n",
        "\n",
        "def bad_print_in_box(word):\n",
        "    n = len(word) + 2\n",
        "    print('+' + '-' * n + '+')\n",
        "    bad_print_in_bars(word)\n",
        "    print('+' + '-' * n + '+')\n",
        "\n",
        "bad_print_in_box('Victory!')"
      ]
    },
    {
      "cell_type": "markdown",
      "metadata": {
        "id": "eMS8jc60C75f"
      },
      "source": [
        "From the traceback, we can see that the error occurred while running the\n",
        "function `bad_print_in_bars`: it tried to access the variable `wrd`, which is\n",
        "undefined.\n",
        "\n",
        "Notice that the traceback also tells us that `bad_print_in_bars` was called\n",
        "inside `bad_print_in_box`.\n"
      ]
    },
    {
      "cell_type": "markdown",
      "metadata": {
        "id": "DRHRI1isC75f"
      },
      "source": [
        "## Questions\n",
        "\n",
        "1. What is a function? What is the function header? What is the function body?\n",
        "\n",
        "2. What does it mean when we say that whitespace is significant in Python\n",
        "   functions?\n",
        "\n",
        "3. Write a function called `powers(n)` that takes a number as an argument and\n",
        "   prints the number, its square, and its cube in the style shown below. For\n",
        "   example, `powers(2)` prints:\n",
        "\n",
        "   ```\n",
        "   2\n",
        "   2 * 2 = 4\n",
        "   2 * 2 * 2 = 8\n",
        "   ```\n",
        "\n",
        "4. What is the difference between an argument and a parameter?\n",
        "\n",
        "5. Write a for-loop that prints the numbers from 1 to 100. *Don't* include 0,\n",
        "   and *don't* leave out 100.\n",
        "\n",
        "6. Write a function called `print_from(begin, end)` that prints the numbers from\n",
        "   `begin` to `end`, including both `begin` and `end`. For example,\n",
        "   `print_from(-3, 4)` prints:\n",
        "\n",
        "   ```\n",
        "   -3\n",
        "   -2\n",
        "   -1\n",
        "   0\n",
        "   1\n",
        "   2\n",
        "   3\n",
        "   4\n",
        "   ```\n",
        "\n",
        "7. What is a local variable? Are parameters local variables? Are arguments local\n",
        "   variables?\n",
        "\n",
        "8. How many local variables does `print_hypotenuse` have? What are they?\n",
        "\n",
        "   ```python\n",
        "   def print_hypotenuse(side1, side2):\n",
        "      hypotenuse = (side1 ** 2 + side2 ** 2) ** 0.5\n",
        "      print(f'hypotenuse = {hypotenuse}')\n",
        "   ```\n",
        "\n",
        "9. What is a stack diagram?\n",
        "\n",
        "10. What is a traceback? When does it occur? How is it related to a stack\n",
        "    diagram?"
      ]
    },
    {
      "cell_type": "code",
      "source": [
        "\"\"\"Write a function called powers(n) that takes a\n",
        "number as an argument and prints the number,\n",
        "its square, and its cube in the style shown below.\n",
        "\n",
        "For example, powers(2) prints:\n",
        "\n",
        "2\n",
        "2 * 2 = 4\n",
        "2 * 2 * 2 = 8\n",
        "\"\"\"\n",
        "\n",
        "def powers(n):\n",
        "    print(n)  # Print the number itself\n",
        "    for i in range(1, 4):\n",
        "        # Construct the multiplication string\n",
        "        multiplication = f\" * \".join([str(n)] * i)\n",
        "        print(f\"{multiplication} = {n ** i}\")\n",
        "\n",
        "powers(2)\n",
        "\n",
        "\"\"\"\n",
        "Iteration Breakdown:\n",
        "First iteration (i = 1):\n",
        "\n",
        "multiplication = f\" * \".join([str(2)] * 1)\n",
        "Results in ['2'], and join returns \"2\".\n",
        "Output: 2 = 2\n",
        "Second iteration (i = 2):\n",
        "\n",
        "multiplication = f\" * \".join([str(2)] * 2)\n",
        "Results in ['2', '2'], and join returns \"2 * 2\".\n",
        "Output: 2 * 2 = 4\n",
        "Third iteration (i = 3):\n",
        "\n",
        "multiplication = f\" * \".join([str(2)] * 3)\n",
        "Results in ['2', '2', '2'], and join returns \"2 * 2 * 2\".\n",
        "Output: 2 * 2 * 2 = 8\n",
        "Summary\n",
        "The .join() method effectively constructs the desired multiplication\n",
        "string by taking a list of repeated n values (as strings) and inserting\n",
        "the specified separator (\" * \") between them.\n",
        "This results in a neatly formatted output that\n",
        "represents the multiplication operation visually.\n",
        "\n",
        "\"\"\""
      ],
      "metadata": {
        "colab": {
          "base_uri": "https://localhost:8080/"
        },
        "id": "_OrHRBscHg6E",
        "outputId": "e6a5066f-102c-4cfd-9b74-d5573f816d49"
      },
      "execution_count": 20,
      "outputs": [
        {
          "output_type": "stream",
          "name": "stdout",
          "text": [
            "2\n",
            "2 = 2\n",
            "2 * 2 = 4\n",
            "2 * 2 * 2 = 8\n"
          ]
        }
      ]
    }
  ],
  "metadata": {
    "colab": {
      "provenance": [],
      "include_colab_link": true
    },
    "kernelspec": {
      "display_name": "Python 3",
      "name": "python3"
    },
    "language_info": {
      "codemirror_mode": {
        "name": "ipython",
        "version": 3
      },
      "file_extension": ".py",
      "mimetype": "text/x-python",
      "name": "python",
      "nbconvert_exporter": "python",
      "pygments_lexer": "ipython3",
      "version": "3.10.12"
    }
  },
  "nbformat": 4,
  "nbformat_minor": 0
}